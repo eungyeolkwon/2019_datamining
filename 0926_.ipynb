{
 "cells": [
  {
   "cell_type": "code",
   "execution_count": 1,
   "metadata": {},
   "outputs": [
    {
     "ename": "ERROR",
     "evalue": "Error in library(tidyberse): there is no package called 'tidyberse'\n",
     "output_type": "error",
     "traceback": [
      "Error in library(tidyberse): there is no package called 'tidyberse'\nTraceback:\n",
      "1. library(tidyberse)"
     ]
    }
   ],
   "source": [
    "library(tidyberse)"
   ]
  },
  {
   "cell_type": "code",
   "execution_count": 2,
   "metadata": {},
   "outputs": [
    {
     "name": "stdout",
     "output_type": "stream",
     "text": [
      "package 'tidyverse' successfully unpacked and MD5 sums checked\n",
      "\n",
      "The downloaded binary packages are in\n",
      "\tC:\\Users\\Administrator\\AppData\\Local\\Temp\\RtmpIbCaac\\downloaded_packages\n"
     ]
    }
   ],
   "source": [
    "install.packages(\"tidyverse\")"
   ]
  },
  {
   "cell_type": "code",
   "execution_count": 3,
   "metadata": {},
   "outputs": [
    {
     "name": "stderr",
     "output_type": "stream",
     "text": [
      "Registered S3 methods overwritten by 'ggplot2':\n",
      "  method         from \n",
      "  [.quosures     rlang\n",
      "  c.quosures     rlang\n",
      "  print.quosures rlang\n",
      "Registered S3 method overwritten by 'rvest':\n",
      "  method            from\n",
      "  read_xml.response xml2\n",
      "-- Attaching packages --------------------------------------- tidyverse 1.2.1 --\n",
      "√ ggplot2 3.1.1       √ purrr   0.3.2  \n",
      "√ tibble  2.1.1       √ dplyr   0.8.0.1\n",
      "√ tidyr   0.8.3       √ stringr 1.4.0  \n",
      "√ readr   1.3.1       √ forcats 0.4.0  \n",
      "-- Conflicts ------------------------------------------ tidyverse_conflicts() --\n",
      "x dplyr::filter() masks stats::filter()\n",
      "x dplyr::lag()    masks stats::lag()\n"
     ]
    }
   ],
   "source": [
    "library(tidyverse)"
   ]
  },
  {
   "cell_type": "code",
   "execution_count": 4,
   "metadata": {},
   "outputs": [
    {
     "data": {
      "text/html": [
       "<table>\n",
       "<thead><tr><th scope=col>manufacturer</th><th scope=col>model</th><th scope=col>displ</th><th scope=col>year</th><th scope=col>cyl</th><th scope=col>trans</th><th scope=col>drv</th><th scope=col>cty</th><th scope=col>hwy</th><th scope=col>fl</th><th scope=col>class</th></tr></thead>\n",
       "<tbody>\n",
       "\t<tr><td>audi      </td><td>a4        </td><td>1.8       </td><td>1999      </td><td>4         </td><td>auto(l5)  </td><td>f         </td><td>18        </td><td>29        </td><td>p         </td><td>compact   </td></tr>\n",
       "\t<tr><td>audi      </td><td>a4        </td><td>1.8       </td><td>1999      </td><td>4         </td><td>manual(m5)</td><td>f         </td><td>21        </td><td>29        </td><td>p         </td><td>compact   </td></tr>\n",
       "\t<tr><td>audi      </td><td>a4        </td><td>2.0       </td><td>2008      </td><td>4         </td><td>manual(m6)</td><td>f         </td><td>20        </td><td>31        </td><td>p         </td><td>compact   </td></tr>\n",
       "\t<tr><td>audi      </td><td>a4        </td><td>2.0       </td><td>2008      </td><td>4         </td><td>auto(av)  </td><td>f         </td><td>21        </td><td>30        </td><td>p         </td><td>compact   </td></tr>\n",
       "\t<tr><td>audi      </td><td>a4        </td><td>2.8       </td><td>1999      </td><td>6         </td><td>auto(l5)  </td><td>f         </td><td>16        </td><td>26        </td><td>p         </td><td>compact   </td></tr>\n",
       "</tbody>\n",
       "</table>\n"
      ],
      "text/latex": [
       "\\begin{tabular}{r|lllllllllll}\n",
       " manufacturer & model & displ & year & cyl & trans & drv & cty & hwy & fl & class\\\\\n",
       "\\hline\n",
       "\t audi       & a4         & 1.8        & 1999       & 4          & auto(l5)   & f          & 18         & 29         & p          & compact   \\\\\n",
       "\t audi       & a4         & 1.8        & 1999       & 4          & manual(m5) & f          & 21         & 29         & p          & compact   \\\\\n",
       "\t audi       & a4         & 2.0        & 2008       & 4          & manual(m6) & f          & 20         & 31         & p          & compact   \\\\\n",
       "\t audi       & a4         & 2.0        & 2008       & 4          & auto(av)   & f          & 21         & 30         & p          & compact   \\\\\n",
       "\t audi       & a4         & 2.8        & 1999       & 6          & auto(l5)   & f          & 16         & 26         & p          & compact   \\\\\n",
       "\\end{tabular}\n"
      ],
      "text/markdown": [
       "\n",
       "| manufacturer | model | displ | year | cyl | trans | drv | cty | hwy | fl | class |\n",
       "|---|---|---|---|---|---|---|---|---|---|---|\n",
       "| audi       | a4         | 1.8        | 1999       | 4          | auto(l5)   | f          | 18         | 29         | p          | compact    |\n",
       "| audi       | a4         | 1.8        | 1999       | 4          | manual(m5) | f          | 21         | 29         | p          | compact    |\n",
       "| audi       | a4         | 2.0        | 2008       | 4          | manual(m6) | f          | 20         | 31         | p          | compact    |\n",
       "| audi       | a4         | 2.0        | 2008       | 4          | auto(av)   | f          | 21         | 30         | p          | compact    |\n",
       "| audi       | a4         | 2.8        | 1999       | 6          | auto(l5)   | f          | 16         | 26         | p          | compact    |\n",
       "\n"
      ],
      "text/plain": [
       "  manufacturer model displ year cyl trans      drv cty hwy fl class  \n",
       "1 audi         a4    1.8   1999 4   auto(l5)   f   18  29  p  compact\n",
       "2 audi         a4    1.8   1999 4   manual(m5) f   21  29  p  compact\n",
       "3 audi         a4    2.0   2008 4   manual(m6) f   20  31  p  compact\n",
       "4 audi         a4    2.0   2008 4   auto(av)   f   21  30  p  compact\n",
       "5 audi         a4    2.8   1999 6   auto(l5)   f   16  26  p  compact"
      ]
     },
     "metadata": {},
     "output_type": "display_data"
    }
   ],
   "source": [
    "mpg[1:5,]"
   ]
  },
  {
   "cell_type": "code",
   "execution_count": 7,
   "metadata": {},
   "outputs": [
    {
     "data": {
      "text/html": [
       "<table>\n",
       "<thead><tr><th scope=col>manufacturer</th><th scope=col>model</th><th scope=col>displ</th><th scope=col>year</th><th scope=col>cyl</th><th scope=col>trans</th><th scope=col>drv</th><th scope=col>cty</th><th scope=col>hwy</th><th scope=col>fl</th><th scope=col>class</th></tr></thead>\n",
       "<tbody>\n",
       "\t<tr><td>audi      </td><td>a4        </td><td>1.8       </td><td>1999      </td><td>4         </td><td>auto(l5)  </td><td>f         </td><td>18        </td><td>29        </td><td>p         </td><td>compact   </td></tr>\n",
       "\t<tr><td>audi      </td><td>a4        </td><td>1.8       </td><td>1999      </td><td>4         </td><td>manual(m5)</td><td>f         </td><td>21        </td><td>29        </td><td>p         </td><td>compact   </td></tr>\n",
       "\t<tr><td>audi      </td><td>a4        </td><td>2.0       </td><td>2008      </td><td>4         </td><td>manual(m6)</td><td>f         </td><td>20        </td><td>31        </td><td>p         </td><td>compact   </td></tr>\n",
       "\t<tr><td>audi      </td><td>a4        </td><td>2.0       </td><td>2008      </td><td>4         </td><td>auto(av)  </td><td>f         </td><td>21        </td><td>30        </td><td>p         </td><td>compact   </td></tr>\n",
       "\t<tr><td>audi      </td><td>a4        </td><td>2.8       </td><td>1999      </td><td>6         </td><td>auto(l5)  </td><td>f         </td><td>16        </td><td>26        </td><td>p         </td><td>compact   </td></tr>\n",
       "</tbody>\n",
       "</table>\n"
      ],
      "text/latex": [
       "\\begin{tabular}{r|lllllllllll}\n",
       " manufacturer & model & displ & year & cyl & trans & drv & cty & hwy & fl & class\\\\\n",
       "\\hline\n",
       "\t audi       & a4         & 1.8        & 1999       & 4          & auto(l5)   & f          & 18         & 29         & p          & compact   \\\\\n",
       "\t audi       & a4         & 1.8        & 1999       & 4          & manual(m5) & f          & 21         & 29         & p          & compact   \\\\\n",
       "\t audi       & a4         & 2.0        & 2008       & 4          & manual(m6) & f          & 20         & 31         & p          & compact   \\\\\n",
       "\t audi       & a4         & 2.0        & 2008       & 4          & auto(av)   & f          & 21         & 30         & p          & compact   \\\\\n",
       "\t audi       & a4         & 2.8        & 1999       & 6          & auto(l5)   & f          & 16         & 26         & p          & compact   \\\\\n",
       "\\end{tabular}\n"
      ],
      "text/markdown": [
       "\n",
       "| manufacturer | model | displ | year | cyl | trans | drv | cty | hwy | fl | class |\n",
       "|---|---|---|---|---|---|---|---|---|---|---|\n",
       "| audi       | a4         | 1.8        | 1999       | 4          | auto(l5)   | f          | 18         | 29         | p          | compact    |\n",
       "| audi       | a4         | 1.8        | 1999       | 4          | manual(m5) | f          | 21         | 29         | p          | compact    |\n",
       "| audi       | a4         | 2.0        | 2008       | 4          | manual(m6) | f          | 20         | 31         | p          | compact    |\n",
       "| audi       | a4         | 2.0        | 2008       | 4          | auto(av)   | f          | 21         | 30         | p          | compact    |\n",
       "| audi       | a4         | 2.8        | 1999       | 6          | auto(l5)   | f          | 16         | 26         | p          | compact    |\n",
       "\n"
      ],
      "text/plain": [
       "  manufacturer model displ year cyl trans      drv cty hwy fl class  \n",
       "1 audi         a4    1.8   1999 4   auto(l5)   f   18  29  p  compact\n",
       "2 audi         a4    1.8   1999 4   manual(m5) f   21  29  p  compact\n",
       "3 audi         a4    2.0   2008 4   manual(m6) f   20  31  p  compact\n",
       "4 audi         a4    2.0   2008 4   auto(av)   f   21  30  p  compact\n",
       "5 audi         a4    2.8   1999 6   auto(l5)   f   16  26  p  compact"
      ]
     },
     "metadata": {},
     "output_type": "display_data"
    }
   ],
   "source": [
    "#test\n",
    "temp = tbl_df(mpg)\n",
    "temp[1:5,]"
   ]
  },
  {
   "cell_type": "code",
   "execution_count": 8,
   "metadata": {},
   "outputs": [
    {
     "data": {
      "text/html": [
       "<ol class=list-inline>\n",
       "\t<li>'tbl_df'</li>\n",
       "\t<li>'tbl'</li>\n",
       "\t<li>'data.frame'</li>\n",
       "</ol>\n"
      ],
      "text/latex": [
       "\\begin{enumerate*}\n",
       "\\item 'tbl\\_df'\n",
       "\\item 'tbl'\n",
       "\\item 'data.frame'\n",
       "\\end{enumerate*}\n"
      ],
      "text/markdown": [
       "1. 'tbl_df'\n",
       "2. 'tbl'\n",
       "3. 'data.frame'\n",
       "\n",
       "\n"
      ],
      "text/plain": [
       "[1] \"tbl_df\"     \"tbl\"        \"data.frame\""
      ]
     },
     "metadata": {},
     "output_type": "display_data"
    }
   ],
   "source": [
    "class(mpg)"
   ]
  },
  {
   "cell_type": "code",
   "execution_count": 15,
   "metadata": {},
   "outputs": [
    {
     "data": {
      "image/png": "[encoded data removed]",
      "text/plain": [
       "plot without title"
      ]
     },
     "metadata": {},
     "output_type": "display_data"
    }
   ],
   "source": [
    "ggplot(data = mpg, aes(x = displ, y = hwy)) +\n",
    "geom_point()"
   ]
  },
  {
   "cell_type": "code",
   "execution_count": 17,
   "metadata": {},
   "outputs": [
    {
     "data": {
      "image/png": "[encoded data removed]",
      "text/plain": [
       "plot without title"
      ]
     },
     "metadata": {},
     "output_type": "display_data"
    }
   ],
   "source": [
    "ggplot(data = mpg) +\n",
    "geom_point(mapping = aes(x = displ, y = hwy, alpha = cyl))"
   ]
  },
  {
   "cell_type": "code",
   "execution_count": 19,
   "metadata": {},
   "outputs": [
    {
     "data": {
      "image/png": "[encoded data removed]",
      "text/plain": [
       "plot without title"
      ]
     },
     "metadata": {},
     "output_type": "display_data"
    }
   ],
   "source": [
    "ggplot(data = mpg) + \n",
    "geom_point(mapping= aes(x = displ, y = hwy)) + \n",
    "facet_wrap (~class , nrow = 2)"
   ]
  },
  {
   "cell_type": "code",
   "execution_count": 20,
   "metadata": {},
   "outputs": [
    {
     "name": "stderr",
     "output_type": "stream",
     "text": [
      "`geom_smooth()` using method = 'loess' and formula 'y ~ x'\n",
      "Warning message in simpleLoess(y, x, w, span, degree = degree, parametric = parametric, :\n",
      "\"span too small.   fewer data values than degrees of freedom.\"Warning message in simpleLoess(y, x, w, span, degree = degree, parametric = parametric, :\n",
      "\"pseudoinverse used at 5.6935\"Warning message in simpleLoess(y, x, w, span, degree = degree, parametric = parametric, :\n",
      "\"neighborhood radius 0.5065\"Warning message in simpleLoess(y, x, w, span, degree = degree, parametric = parametric, :\n",
      "\"reciprocal condition number  0\"Warning message in simpleLoess(y, x, w, span, degree = degree, parametric = parametric, :\n",
      "\"There are other near singularities as well. 0.65044\"Warning message in predLoess(object$y, object$x, newx = if (is.null(newdata)) object$x else if (is.data.frame(newdata)) as.matrix(model.frame(delete.response(terms(object)), :\n",
      "\"span too small.   fewer data values than degrees of freedom.\"Warning message in predLoess(object$y, object$x, newx = if (is.null(newdata)) object$x else if (is.data.frame(newdata)) as.matrix(model.frame(delete.response(terms(object)), :\n",
      "\"pseudoinverse used at 5.6935\"Warning message in predLoess(object$y, object$x, newx = if (is.null(newdata)) object$x else if (is.data.frame(newdata)) as.matrix(model.frame(delete.response(terms(object)), :\n",
      "\"neighborhood radius 0.5065\"Warning message in predLoess(object$y, object$x, newx = if (is.null(newdata)) object$x else if (is.data.frame(newdata)) as.matrix(model.frame(delete.response(terms(object)), :\n",
      "\"reciprocal condition number  0\"Warning message in predLoess(object$y, object$x, newx = if (is.null(newdata)) object$x else if (is.data.frame(newdata)) as.matrix(model.frame(delete.response(terms(object)), :\n",
      "\"There are other near singularities as well. 0.65044\"Warning message in simpleLoess(y, x, w, span, degree = degree, parametric = parametric, :\n",
      "\"pseudoinverse used at 4.008\"Warning message in simpleLoess(y, x, w, span, degree = degree, parametric = parametric, :\n",
      "\"neighborhood radius 0.708\"Warning message in simpleLoess(y, x, w, span, degree = degree, parametric = parametric, :\n",
      "\"reciprocal condition number  0\"Warning message in simpleLoess(y, x, w, span, degree = degree, parametric = parametric, :\n",
      "\"There are other near singularities as well. 0.25\"Warning message in predLoess(object$y, object$x, newx = if (is.null(newdata)) object$x else if (is.data.frame(newdata)) as.matrix(model.frame(delete.response(terms(object)), :\n",
      "\"pseudoinverse used at 4.008\"Warning message in predLoess(object$y, object$x, newx = if (is.null(newdata)) object$x else if (is.data.frame(newdata)) as.matrix(model.frame(delete.response(terms(object)), :\n",
      "\"neighborhood radius 0.708\"Warning message in predLoess(object$y, object$x, newx = if (is.null(newdata)) object$x else if (is.data.frame(newdata)) as.matrix(model.frame(delete.response(terms(object)), :\n",
      "\"reciprocal condition number  0\"Warning message in predLoess(object$y, object$x, newx = if (is.null(newdata)) object$x else if (is.data.frame(newdata)) as.matrix(model.frame(delete.response(terms(object)), :\n",
      "\"There are other near singularities as well. 0.25\""
     ]
    },
    {
     "data": {
      "image/png": "[encoded data removed]",
      "text/plain": [
       "plot without title"
      ]
     },
     "metadata": {},
     "output_type": "display_data"
    }
   ],
   "source": [
    "ggplot(data = mpg) + \n",
    "geom_smooth(mapping= aes(x = displ, y = hwy)) + \n",
    "facet_wrap (~class , nrow = 2)"
   ]
  },
  {
   "cell_type": "code",
   "execution_count": null,
   "metadata": {},
   "outputs": [],
   "source": []
  },
  {
   "cell_type": "code",
   "execution_count": null,
   "metadata": {},
   "outputs": [],
   "source": []
  },
  {
   "cell_type": "code",
   "execution_count": null,
   "metadata": {},
   "outputs": [],
   "source": []
  },
  {
   "cell_type": "code",
   "execution_count": null,
   "metadata": {},
   "outputs": [],
   "source": []
  },
  {
   "cell_type": "code",
   "execution_count": 26,
   "metadata": {},
   "outputs": [
    {
     "name": "stdout",
     "output_type": "stream",
     "text": [
      "package 'nycflights13' successfully unpacked and MD5 sums checked\n",
      "\n",
      "The downloaded binary packages are in\n",
      "\tC:\\Users\\Administrator\\AppData\\Local\\Temp\\RtmpIbCaac\\downloaded_packages\n"
     ]
    }
   ],
   "source": [
    "install.packages(\"nycflights13\")"
   ]
  },
  {
   "cell_type": "code",
   "execution_count": 27,
   "metadata": {},
   "outputs": [],
   "source": [
    "library(nycflights13)"
   ]
  },
  {
   "cell_type": "code",
   "execution_count": 29,
   "metadata": {},
   "outputs": [
    {
     "data": {
      "text/html": [
       "<table>\n",
       "<thead><tr><th scope=col>year</th><th scope=col>month</th><th scope=col>day</th><th scope=col>dep_time</th><th scope=col>sched_dep_time</th><th scope=col>dep_delay</th><th scope=col>arr_time</th><th scope=col>sched_arr_time</th><th scope=col>arr_delay</th><th scope=col>carrier</th><th scope=col>flight</th><th scope=col>tailnum</th><th scope=col>origin</th><th scope=col>dest</th><th scope=col>air_time</th><th scope=col>distance</th><th scope=col>hour</th><th scope=col>minute</th><th scope=col>time_hour</th></tr></thead>\n",
       "<tbody>\n",
       "\t<tr><td>2013               </td><td>1                  </td><td>1                  </td><td>517                </td><td>515                </td><td> 2                 </td><td> 830               </td><td> 819               </td><td> 11                </td><td>UA                 </td><td>1545               </td><td>N14228             </td><td>EWR                </td><td>IAH                </td><td>227                </td><td>1400               </td><td>5                  </td><td>15                 </td><td>2013-01-01 05:00:00</td></tr>\n",
       "\t<tr><td>2013               </td><td>1                  </td><td>1                  </td><td>533                </td><td>529                </td><td> 4                 </td><td> 850               </td><td> 830               </td><td> 20                </td><td>UA                 </td><td>1714               </td><td>N24211             </td><td>LGA                </td><td>IAH                </td><td>227                </td><td>1416               </td><td>5                  </td><td>29                 </td><td>2013-01-01 05:00:00</td></tr>\n",
       "\t<tr><td>2013               </td><td>1                  </td><td>1                  </td><td>542                </td><td>540                </td><td> 2                 </td><td> 923               </td><td> 850               </td><td> 33                </td><td>AA                 </td><td>1141               </td><td>N619AA             </td><td>JFK                </td><td>MIA                </td><td>160                </td><td>1089               </td><td>5                  </td><td>40                 </td><td>2013-01-01 05:00:00</td></tr>\n",
       "\t<tr><td>2013               </td><td>1                  </td><td>1                  </td><td>544                </td><td>545                </td><td>-1                 </td><td>1004               </td><td>1022               </td><td>-18                </td><td>B6                 </td><td> 725               </td><td>N804JB             </td><td>JFK                </td><td>BQN                </td><td>183                </td><td>1576               </td><td>5                  </td><td>45                 </td><td>2013-01-01 05:00:00</td></tr>\n",
       "\t<tr><td>2013               </td><td>1                  </td><td>1                  </td><td>554                </td><td>600                </td><td>-6                 </td><td> 812               </td><td> 837               </td><td>-25                </td><td>DL                 </td><td> 461               </td><td>N668DN             </td><td>LGA                </td><td>ATL                </td><td>116                </td><td> 762               </td><td>6                  </td><td> 0                 </td><td>2013-01-01 06:00:00</td></tr>\n",
       "</tbody>\n",
       "</table>\n"
      ],
      "text/latex": [
       "\\begin{tabular}{r|lllllllllllllllllll}\n",
       " year & month & day & dep\\_time & sched\\_dep\\_time & dep\\_delay & arr\\_time & sched\\_arr\\_time & arr\\_delay & carrier & flight & tailnum & origin & dest & air\\_time & distance & hour & minute & time\\_hour\\\\\n",
       "\\hline\n",
       "\t 2013                & 1                   & 1                   & 517                 & 515                 &  2                  &  830                &  819                &  11                 & UA                  & 1545                & N14228              & EWR                 & IAH                 & 227                 & 1400                & 5                   & 15                  & 2013-01-01 05:00:00\\\\\n",
       "\t 2013                & 1                   & 1                   & 533                 & 529                 &  4                  &  850                &  830                &  20                 & UA                  & 1714                & N24211              & LGA                 & IAH                 & 227                 & 1416                & 5                   & 29                  & 2013-01-01 05:00:00\\\\\n",
       "\t 2013                & 1                   & 1                   & 542                 & 540                 &  2                  &  923                &  850                &  33                 & AA                  & 1141                & N619AA              & JFK                 & MIA                 & 160                 & 1089                & 5                   & 40                  & 2013-01-01 05:00:00\\\\\n",
       "\t 2013                & 1                   & 1                   & 544                 & 545                 & -1                  & 1004                & 1022                & -18                 & B6                  &  725                & N804JB              & JFK                 & BQN                 & 183                 & 1576                & 5                   & 45                  & 2013-01-01 05:00:00\\\\\n",
       "\t 2013                & 1                   & 1                   & 554                 & 600                 & -6                  &  812                &  837                & -25                 & DL                  &  461                & N668DN              & LGA                 & ATL                 & 116                 &  762                & 6                   &  0                  & 2013-01-01 06:00:00\\\\\n",
       "\\end{tabular}\n"
      ],
      "text/markdown": [
       "\n",
       "| year | month | day | dep_time | sched_dep_time | dep_delay | arr_time | sched_arr_time | arr_delay | carrier | flight | tailnum | origin | dest | air_time | distance | hour | minute | time_hour |\n",
       "|---|---|---|---|---|---|---|---|---|---|---|---|---|---|---|---|---|---|---|\n",
       "| 2013                | 1                   | 1                   | 517                 | 515                 |  2                  |  830                |  819                |  11                 | UA                  | 1545                | N14228              | EWR                 | IAH                 | 227                 | 1400                | 5                   | 15                  | 2013-01-01 05:00:00 |\n",
       "| 2013                | 1                   | 1                   | 533                 | 529                 |  4                  |  850                |  830                |  20                 | UA                  | 1714                | N24211              | LGA                 | IAH                 | 227                 | 1416                | 5                   | 29                  | 2013-01-01 05:00:00 |\n",
       "| 2013                | 1                   | 1                   | 542                 | 540                 |  2                  |  923                |  850                |  33                 | AA                  | 1141                | N619AA              | JFK                 | MIA                 | 160                 | 1089                | 5                   | 40                  | 2013-01-01 05:00:00 |\n",
       "| 2013                | 1                   | 1                   | 544                 | 545                 | -1                  | 1004                | 1022                | -18                 | B6                  |  725                | N804JB              | JFK                 | BQN                 | 183                 | 1576                | 5                   | 45                  | 2013-01-01 05:00:00 |\n",
       "| 2013                | 1                   | 1                   | 554                 | 600                 | -6                  |  812                |  837                | -25                 | DL                  |  461                | N668DN              | LGA                 | ATL                 | 116                 |  762                | 6                   |  0                  | 2013-01-01 06:00:00 |\n",
       "\n"
      ],
      "text/plain": [
       "  year month day dep_time sched_dep_time dep_delay arr_time sched_arr_time\n",
       "1 2013 1     1   517      515             2         830      819          \n",
       "2 2013 1     1   533      529             4         850      830          \n",
       "3 2013 1     1   542      540             2         923      850          \n",
       "4 2013 1     1   544      545            -1        1004     1022          \n",
       "5 2013 1     1   554      600            -6         812      837          \n",
       "  arr_delay carrier flight tailnum origin dest air_time distance hour minute\n",
       "1  11       UA      1545   N14228  EWR    IAH  227      1400     5    15    \n",
       "2  20       UA      1714   N24211  LGA    IAH  227      1416     5    29    \n",
       "3  33       AA      1141   N619AA  JFK    MIA  160      1089     5    40    \n",
       "4 -18       B6       725   N804JB  JFK    BQN  183      1576     5    45    \n",
       "5 -25       DL       461   N668DN  LGA    ATL  116       762     6     0    \n",
       "  time_hour          \n",
       "1 2013-01-01 05:00:00\n",
       "2 2013-01-01 05:00:00\n",
       "3 2013-01-01 05:00:00\n",
       "4 2013-01-01 05:00:00\n",
       "5 2013-01-01 06:00:00"
      ]
     },
     "metadata": {},
     "output_type": "display_data"
    }
   ],
   "source": [
    "flights[1:5,]"
   ]
  },
  {
   "cell_type": "code",
   "execution_count": 30,
   "metadata": {},
   "outputs": [
    {
     "data": {
      "text/html": [
       "<table>\n",
       "<thead><tr><th scope=col>year</th><th scope=col>month</th><th scope=col>day</th><th scope=col>dep_time</th><th scope=col>sched_dep_time</th><th scope=col>dep_delay</th><th scope=col>arr_time</th><th scope=col>sched_arr_time</th><th scope=col>arr_delay</th><th scope=col>carrier</th><th scope=col>flight</th><th scope=col>tailnum</th><th scope=col>origin</th><th scope=col>dest</th><th scope=col>air_time</th><th scope=col>distance</th><th scope=col>hour</th><th scope=col>minute</th><th scope=col>time_hour</th></tr></thead>\n",
       "<tbody>\n",
       "\t<tr><td>2013               </td><td>10                 </td><td>1                  </td><td>447                </td><td>500                </td><td>-13                </td><td>614                </td><td>648                </td><td>-34                </td><td>US                 </td><td>1877               </td><td>N538UW             </td><td>EWR                </td><td>CLT                </td><td> 69                </td><td> 529               </td><td>5                  </td><td> 0                 </td><td>2013-10-01 05:00:00</td></tr>\n",
       "\t<tr><td>2013               </td><td>10                 </td><td>1                  </td><td>522                </td><td>517                </td><td>  5                </td><td>735                </td><td>757                </td><td>-22                </td><td>UA                 </td><td> 252               </td><td>N556UA             </td><td>EWR                </td><td>IAH                </td><td>174                </td><td>1400               </td><td>5                  </td><td>17                 </td><td>2013-10-01 05:00:00</td></tr>\n",
       "\t<tr><td>2013               </td><td>10                 </td><td>1                  </td><td>536                </td><td>545                </td><td> -9                </td><td>809                </td><td>855                </td><td>-46                </td><td>AA                 </td><td>2243               </td><td>N630AA             </td><td>JFK                </td><td>MIA                </td><td>132                </td><td>1089               </td><td>5                  </td><td>45                 </td><td>2013-10-01 05:00:00</td></tr>\n",
       "\t<tr><td>2013               </td><td>10                 </td><td>1                  </td><td>539                </td><td>545                </td><td> -6                </td><td>801                </td><td>827                </td><td>-26                </td><td>UA                 </td><td>1714               </td><td>N37252             </td><td>LGA                </td><td>IAH                </td><td>172                </td><td>1416               </td><td>5                  </td><td>45                 </td><td>2013-10-01 05:00:00</td></tr>\n",
       "\t<tr><td>2013               </td><td>10                 </td><td>1                  </td><td>539                </td><td>545                </td><td> -6                </td><td>917                </td><td>933                </td><td>-16                </td><td>B6                 </td><td>1403               </td><td>N789JB             </td><td>JFK                </td><td>SJU                </td><td>186                </td><td>1598               </td><td>5                  </td><td>45                 </td><td>2013-10-01 05:00:00</td></tr>\n",
       "\t<tr><td>2013               </td><td>10                 </td><td>1                  </td><td>544                </td><td>550                </td><td> -6                </td><td>912                </td><td>932                </td><td>-20                </td><td>B6                 </td><td> 939               </td><td>N593JB             </td><td>JFK                </td><td>BQN                </td><td>191                </td><td>1576               </td><td>5                  </td><td>50                 </td><td>2013-10-01 05:00:00</td></tr>\n",
       "\t<tr><td>2013               </td><td>10                 </td><td>1                  </td><td>549                </td><td>600                </td><td>-11                </td><td>653                </td><td>716                </td><td>-23                </td><td>EV                 </td><td>5716               </td><td>N830AS             </td><td>JFK                </td><td>IAD                </td><td> 46                </td><td> 228               </td><td>6                  </td><td> 0                 </td><td>2013-10-01 06:00:00</td></tr>\n",
       "\t<tr><td>2013               </td><td>10                 </td><td>1                  </td><td>550                </td><td>600                </td><td>-10                </td><td>648                </td><td>700                </td><td>-12                </td><td>US                 </td><td>1909               </td><td>N949UW             </td><td>LGA                </td><td>PHL                </td><td> 38                </td><td>  96               </td><td>6                  </td><td> 0                 </td><td>2013-10-01 06:00:00</td></tr>\n",
       "\t<tr><td>2013               </td><td>10                 </td><td>1                  </td><td>550                </td><td>600                </td><td>-10                </td><td>649                </td><td>659                </td><td>-10                </td><td>US                 </td><td>2167               </td><td>N749US             </td><td>LGA                </td><td>DCA                </td><td> 39                </td><td> 214               </td><td>6                  </td><td> 0                 </td><td>2013-10-01 06:00:00</td></tr>\n",
       "\t<tr><td>2013               </td><td>10                 </td><td>1                  </td><td>551                </td><td>600                </td><td> -9                </td><td>727                </td><td>730                </td><td> -3                </td><td>UA                 </td><td> 279               </td><td>N415UA             </td><td>EWR                </td><td>ORD                </td><td>117                </td><td> 719               </td><td>6                  </td><td> 0                 </td><td>2013-10-01 06:00:00</td></tr>\n",
       "\t<tr><td>2013               </td><td>10                 </td><td>1                  </td><td>551                </td><td>600                </td><td> -9                </td><td>710                </td><td>721                </td><td>-11                </td><td>UA                 </td><td>1029               </td><td>N27722             </td><td>LGA                </td><td>ORD                </td><td>114                </td><td> 733               </td><td>6                  </td><td> 0                 </td><td>2013-10-01 06:00:00</td></tr>\n",
       "\t<tr><td>2013               </td><td>10                 </td><td>1                  </td><td>551                </td><td>600                </td><td> -9                </td><td>655                </td><td>708                </td><td>-13                </td><td>B6                 </td><td>2180               </td><td>N238JB             </td><td>EWR                </td><td>BOS                </td><td> 40                </td><td> 200               </td><td>6                  </td><td> 0                 </td><td>2013-10-01 06:00:00</td></tr>\n",
       "\t<tr><td>2013               </td><td>10                 </td><td>1                  </td><td>552                </td><td>600                </td><td> -8                </td><td>834                </td><td>905                </td><td>-31                </td><td>AA                 </td><td>1175               </td><td>N3HVAA             </td><td>LGA                </td><td>MIA                </td><td>140                </td><td>1096               </td><td>6                  </td><td> 0                 </td><td>2013-10-01 06:00:00</td></tr>\n",
       "\t<tr><td>2013               </td><td>10                 </td><td>1                  </td><td>553                </td><td>600                </td><td> -7                </td><td>829                </td><td>856                </td><td>-27                </td><td>B6                 </td><td> 601               </td><td>N760JB             </td><td>JFK                </td><td>FLL                </td><td>135                </td><td>1069               </td><td>6                  </td><td> 0                 </td><td>2013-10-01 06:00:00</td></tr>\n",
       "\t<tr><td>2013               </td><td>10                 </td><td>1                  </td><td>553                </td><td>600                </td><td> -7                </td><td>811                </td><td>829                </td><td>-18                </td><td>DL                 </td><td> 563               </td><td>N961DL             </td><td>LGA                </td><td>ATL                </td><td>105                </td><td> 762               </td><td>6                  </td><td> 0                 </td><td>2013-10-01 06:00:00</td></tr>\n",
       "\t<tr><td>2013               </td><td>10                 </td><td>1                  </td><td>554                </td><td>600                </td><td> -6                </td><td>757                </td><td>843                </td><td>-46                </td><td>UA                 </td><td>1014               </td><td>N37427             </td><td>EWR                </td><td>IAH                </td><td>169                </td><td>1400               </td><td>6                  </td><td> 0                 </td><td>2013-10-01 06:00:00</td></tr>\n",
       "\t<tr><td>2013               </td><td>10                 </td><td>1                  </td><td>554                </td><td>600                </td><td> -6                </td><td>831                </td><td>858                </td><td>-27                </td><td>B6                 </td><td> 371               </td><td>N656JB             </td><td>LGA                </td><td>FLL                </td><td>139                </td><td>1076               </td><td>6                  </td><td> 0                 </td><td>2013-10-01 06:00:00</td></tr>\n",
       "\t<tr><td>2013               </td><td>10                 </td><td>1                  </td><td>555                </td><td>600                </td><td> -5                </td><td>810                </td><td>840                </td><td>-30                </td><td>B6                 </td><td>  27               </td><td>N580JB             </td><td>EWR                </td><td>MCO                </td><td>117                </td><td> 937               </td><td>6                  </td><td> 0                 </td><td>2013-10-01 06:00:00</td></tr>\n",
       "\t<tr><td>2013               </td><td>10                 </td><td>1                  </td><td>556                </td><td>600                </td><td> -4                </td><td>810                </td><td>829                </td><td>-19                </td><td>EV                 </td><td>4137               </td><td>N11539             </td><td>EWR                </td><td>ATL                </td><td>102                </td><td> 746               </td><td>6                  </td><td> 0                 </td><td>2013-10-01 06:00:00</td></tr>\n",
       "\t<tr><td>2013               </td><td>10                 </td><td>1                  </td><td>556                </td><td>600                </td><td> -4                </td><td>737                </td><td>758                </td><td>-21                </td><td>EV                 </td><td>5068               </td><td>N135EV             </td><td>EWR                </td><td>DTW                </td><td> 80                </td><td> 488               </td><td>6                  </td><td> 0                 </td><td>2013-10-01 06:00:00</td></tr>\n",
       "\t<tr><td>2013               </td><td>10                 </td><td>1                  </td><td>557                </td><td>600                </td><td> -3                </td><td>851                </td><td>923                </td><td>-32                </td><td>UA                 </td><td> 303               </td><td>N590UA             </td><td>JFK                </td><td>SFO                </td><td>331                </td><td>2586               </td><td>6                  </td><td> 0                 </td><td>2013-10-01 06:00:00</td></tr>\n",
       "\t<tr><td>2013               </td><td>10                 </td><td>1                  </td><td>558                </td><td>600                </td><td> -2                </td><td>726                </td><td>715                </td><td> 11                </td><td>MQ                 </td><td>3267               </td><td>N520MQ             </td><td>EWR                </td><td>ORD                </td><td>111                </td><td> 719               </td><td>6                  </td><td> 0                 </td><td>2013-10-01 06:00:00</td></tr>\n",
       "\t<tr><td>2013               </td><td>10                 </td><td>1                  </td><td>558                </td><td>600                </td><td> -2                </td><td>650                </td><td>701                </td><td>-11                </td><td>US                 </td><td>2134               </td><td>N762US             </td><td>LGA                </td><td>BOS                </td><td> 33                </td><td> 184               </td><td>6                  </td><td> 0                 </td><td>2013-10-01 06:00:00</td></tr>\n",
       "\t<tr><td>2013               </td><td>10                 </td><td>1                  </td><td>558                </td><td>600                </td><td> -2                </td><td>757                </td><td>815                </td><td>-18                </td><td>FL                 </td><td> 345               </td><td>N338AT             </td><td>LGA                </td><td>ATL                </td><td> 98                </td><td> 762               </td><td>6                  </td><td> 0                 </td><td>2013-10-01 06:00:00</td></tr>\n",
       "\t<tr><td>2013               </td><td>10                 </td><td>1                  </td><td>558                </td><td>600                </td><td> -2                </td><td>743                </td><td>751                </td><td> -8                </td><td>DL                 </td><td> 731               </td><td>N347NB             </td><td>LGA                </td><td>DTW                </td><td> 79                </td><td> 502               </td><td>6                  </td><td> 0                 </td><td>2013-10-01 06:00:00</td></tr>\n",
       "\t<tr><td>2013               </td><td>10                 </td><td>1                  </td><td>559                </td><td>600                </td><td> -1                </td><td>831                </td><td>851                </td><td>-20                </td><td>UA                 </td><td> 698               </td><td>N827UA             </td><td>EWR                </td><td>TPA                </td><td>128                </td><td> 997               </td><td>6                  </td><td> 0                 </td><td>2013-10-01 06:00:00</td></tr>\n",
       "\t<tr><td>2013               </td><td>10                 </td><td>1                  </td><td>559                </td><td>600                </td><td> -1                </td><td>719                </td><td>730                </td><td>-11                </td><td>AA                 </td><td> 301               </td><td>N466AA             </td><td>LGA                </td><td>ORD                </td><td>115                </td><td> 733               </td><td>6                  </td><td> 0                 </td><td>2013-10-01 06:00:00</td></tr>\n",
       "\t<tr><td>2013               </td><td>10                 </td><td>1                  </td><td>600                </td><td>600                </td><td>  0                </td><td>706                </td><td>717                </td><td>-11                </td><td>EV                 </td><td>5747               </td><td>N877AS             </td><td>LGA                </td><td>IAD                </td><td> 48                </td><td> 229               </td><td>6                  </td><td> 0                 </td><td>2013-10-01 06:00:00</td></tr>\n",
       "\t<tr><td>2013               </td><td>10                 </td><td>1                  </td><td>603                </td><td>610                </td><td> -7                </td><td>735                </td><td>745                </td><td>-10                </td><td>WN                 </td><td>2609               </td><td>N201LV             </td><td>LGA                </td><td>STL                </td><td>122                </td><td> 888               </td><td>6                  </td><td>10                 </td><td>2013-10-01 06:00:00</td></tr>\n",
       "\t<tr><td>2013               </td><td>10                 </td><td>1                  </td><td>604                </td><td>610                </td><td> -6                </td><td>751                </td><td>813                </td><td>-22                </td><td>DL                 </td><td>1919               </td><td>N986DL             </td><td>LGA                </td><td>MSP                </td><td>146                </td><td>1020               </td><td>6                  </td><td>10                 </td><td>2013-10-01 06:00:00</td></tr>\n",
       "\t<tr><td>...</td><td>...</td><td>...</td><td>...</td><td>...</td><td>...</td><td>...</td><td>...</td><td>...</td><td>...</td><td>...</td><td>...</td><td>...</td><td>...</td><td>...</td><td>...</td><td>...</td><td>...</td><td>...</td></tr>\n",
       "\t<tr><td>2013               </td><td>12                 </td><td>31                 </td><td>2155               </td><td>2039               </td><td> 76                </td><td> 253               </td><td>2355               </td><td> NA                </td><td>B6                 </td><td>1205               </td><td>N627JB             </td><td>JFK                </td><td>PDX                </td><td> NA                </td><td>2454               </td><td>20                 </td><td>39                 </td><td>2013-12-31 20:00:00</td></tr>\n",
       "\t<tr><td>2013               </td><td>12                 </td><td>31                 </td><td>2155               </td><td>2150               </td><td>  5                </td><td> 110               </td><td>  51               </td><td> 19                </td><td>B6                 </td><td>1901               </td><td>N729JB             </td><td>JFK                </td><td>FLL                </td><td>164                </td><td>1069               </td><td>21                 </td><td>50                 </td><td>2013-12-31 21:00:00</td></tr>\n",
       "\t<tr><td>2013               </td><td>12                 </td><td>31                 </td><td>2159               </td><td>2155               </td><td>  4                </td><td>  55               </td><td>  46               </td><td>  9                </td><td>B6                 </td><td>2053               </td><td>N593JB             </td><td>JFK                </td><td>PBI                </td><td>155                </td><td>1028               </td><td>21                 </td><td>55                 </td><td>2013-12-31 21:00:00</td></tr>\n",
       "\t<tr><td>2013               </td><td>12                 </td><td>31                 </td><td>2206               </td><td>2110               </td><td> 56                </td><td>  44               </td><td>2339               </td><td> 65                </td><td>B6                 </td><td> 775               </td><td>N184JB             </td><td>JFK                </td><td>MSY                </td><td>195                </td><td>1182               </td><td>21                 </td><td>10                 </td><td>2013-12-31 21:00:00</td></tr>\n",
       "\t<tr><td>2013               </td><td>12                 </td><td>31                 </td><td>2211               </td><td>2159               </td><td> 12                </td><td> 100               </td><td>  45               </td><td> 15                </td><td>B6                 </td><td>1183               </td><td>N715JB             </td><td>JFK                </td><td>MCO                </td><td>148                </td><td> 944               </td><td>21                 </td><td>59                 </td><td>2013-12-31 21:00:00</td></tr>\n",
       "\t<tr><td>2013               </td><td>12                 </td><td>31                 </td><td>2218               </td><td>2219               </td><td> -1                </td><td> 315               </td><td> 304               </td><td> 11                </td><td>B6                 </td><td>1203               </td><td>N625JB             </td><td>JFK                </td><td>SJU                </td><td>202                </td><td>1598               </td><td>22                 </td><td>19                 </td><td>2013-12-31 22:00:00</td></tr>\n",
       "\t<tr><td>2013               </td><td>12                 </td><td>31                 </td><td>2235               </td><td>2245               </td><td>-10                </td><td>2351               </td><td>2355               </td><td> -4                </td><td>B6                 </td><td> 234               </td><td>N355JB             </td><td>JFK                </td><td>BTV                </td><td> 49                </td><td> 266               </td><td>22                 </td><td>45                 </td><td>2013-12-31 22:00:00</td></tr>\n",
       "\t<tr><td>2013               </td><td>12                 </td><td>31                 </td><td>2245               </td><td>2250               </td><td> -5                </td><td>2359               </td><td>2356               </td><td>  3                </td><td>B6                 </td><td>1816               </td><td>N318JB             </td><td>JFK                </td><td>SYR                </td><td> 51                </td><td> 209               </td><td>22                 </td><td>50                 </td><td>2013-12-31 22:00:00</td></tr>\n",
       "\t<tr><td>2013               </td><td>12                 </td><td>31                 </td><td>2310               </td><td>2255               </td><td> 15                </td><td>   7               </td><td>2356               </td><td> 11                </td><td>B6                 </td><td> 718               </td><td>N279JB             </td><td>JFK                </td><td>BOS                </td><td> 40                </td><td> 187               </td><td>22                 </td><td>55                 </td><td>2013-12-31 22:00:00</td></tr>\n",
       "\t<tr><td>2013               </td><td>12                 </td><td>31                 </td><td>2321               </td><td>2250               </td><td> 31                </td><td>  46               </td><td>   8               </td><td> 38                </td><td>B6                 </td><td>2002               </td><td>N179JB             </td><td>JFK                </td><td>BUF                </td><td> 66                </td><td> 301               </td><td>22                 </td><td>50                 </td><td>2013-12-31 22:00:00</td></tr>\n",
       "\t<tr><td>2013               </td><td>12                 </td><td>31                 </td><td>2328               </td><td>2330               </td><td> -2                </td><td> 412               </td><td> 409               </td><td>  3                </td><td>B6                 </td><td>1389               </td><td>N651JB             </td><td>EWR                </td><td>SJU                </td><td>198                </td><td>1608               </td><td>23                 </td><td>30                 </td><td>2013-12-31 23:00:00</td></tr>\n",
       "\t<tr><td>2013               </td><td>12                 </td><td>31                 </td><td>2332               </td><td>2245               </td><td> 47                </td><td>  58               </td><td>   3               </td><td> 55                </td><td>B6                 </td><td> 486               </td><td>N334JB             </td><td>JFK                </td><td>ROC                </td><td> 60                </td><td> 264               </td><td>22                 </td><td>45                 </td><td>2013-12-31 22:00:00</td></tr>\n",
       "\t<tr><td>2013               </td><td>12                 </td><td>31                 </td><td>2355               </td><td>2359               </td><td> -4                </td><td> 430               </td><td> 440               </td><td>-10                </td><td>B6                 </td><td>1503               </td><td>N509JB             </td><td>JFK                </td><td>SJU                </td><td>195                </td><td>1598               </td><td>23                 </td><td>59                 </td><td>2013-12-31 23:00:00</td></tr>\n",
       "\t<tr><td>2013               </td><td>12                 </td><td>31                 </td><td>2356               </td><td>2359               </td><td> -3                </td><td> 436               </td><td> 445               </td><td> -9                </td><td>B6                 </td><td> 745               </td><td>N665JB             </td><td>JFK                </td><td>PSE                </td><td>200                </td><td>1617               </td><td>23                 </td><td>59                 </td><td>2013-12-31 23:00:00</td></tr>\n",
       "\t<tr><td>2013               </td><td>12                 </td><td>31                 </td><td>  NA               </td><td>1520               </td><td> NA                </td><td>  NA               </td><td>1705               </td><td> NA                </td><td>AA                 </td><td> 341               </td><td>N568AA             </td><td>LGA                </td><td>ORD                </td><td> NA                </td><td> 733               </td><td>15                 </td><td>20                 </td><td>2013-12-31 15:00:00</td></tr>\n",
       "\t<tr><td>2013               </td><td>12                 </td><td>31                 </td><td>  NA               </td><td>2025               </td><td> NA                </td><td>  NA               </td><td>2205               </td><td> NA                </td><td>AA                 </td><td> 371               </td><td>N482AA             </td><td>LGA                </td><td>ORD                </td><td> NA                </td><td> 733               </td><td>20                 </td><td>25                 </td><td>2013-12-31 20:00:00</td></tr>\n",
       "\t<tr><td>2013               </td><td>12                 </td><td>31                 </td><td>  NA               </td><td>1932               </td><td> NA                </td><td>  NA               </td><td>2305               </td><td> NA                </td><td>B6                 </td><td> 161               </td><td>N516JB             </td><td>JFK                </td><td>SMF                </td><td> NA                </td><td>2521               </td><td>19                 </td><td>32                 </td><td>2013-12-31 19:00:00</td></tr>\n",
       "\t<tr><td>2013               </td><td>12                 </td><td>31                 </td><td>  NA               </td><td>1505               </td><td> NA                </td><td>  NA               </td><td>1725               </td><td> NA                </td><td>EV                 </td><td>4181               </td><td>N24103             </td><td>EWR                </td><td>MCI                </td><td> NA                </td><td>1092               </td><td>15                 </td><td> 5                 </td><td>2013-12-31 15:00:00</td></tr>\n",
       "\t<tr><td>2013               </td><td>12                 </td><td>31                 </td><td>  NA               </td><td>1000               </td><td> NA                </td><td>  NA               </td><td>1252               </td><td> NA                </td><td>UA                 </td><td>1124               </td><td>NA                 </td><td>EWR                </td><td>EGE                </td><td> NA                </td><td>1725               </td><td>10                 </td><td> 0                 </td><td>2013-12-31 10:00:00</td></tr>\n",
       "\t<tr><td>2013               </td><td>12                 </td><td>31                 </td><td>  NA               </td><td> 840               </td><td> NA                </td><td>  NA               </td><td>1205               </td><td> NA                </td><td>UA                 </td><td>1151               </td><td>NA                 </td><td>EWR                </td><td>SEA                </td><td> NA                </td><td>2402               </td><td> 8                 </td><td>40                 </td><td>2013-12-31 08:00:00</td></tr>\n",
       "\t<tr><td>2013               </td><td>12                 </td><td>31                 </td><td>  NA               </td><td> 754               </td><td> NA                </td><td>  NA               </td><td>1118               </td><td> NA                </td><td>UA                 </td><td>1455               </td><td>NA                 </td><td>EWR                </td><td>LAX                </td><td> NA                </td><td>2454               </td><td> 7                 </td><td>54                 </td><td>2013-12-31 07:00:00</td></tr>\n",
       "\t<tr><td>2013               </td><td>12                 </td><td>31                 </td><td>  NA               </td><td>2000               </td><td> NA                </td><td>  NA               </td><td>2146               </td><td> NA                </td><td>UA                 </td><td>1482               </td><td>NA                 </td><td>EWR                </td><td>ORD                </td><td> NA                </td><td> 719               </td><td>20                 </td><td> 0                 </td><td>2013-12-31 20:00:00</td></tr>\n",
       "\t<tr><td>2013               </td><td>12                 </td><td>31                 </td><td>  NA               </td><td>1500               </td><td> NA                </td><td>  NA               </td><td>1817               </td><td> NA                </td><td>UA                 </td><td>1483               </td><td>NA                 </td><td>EWR                </td><td>AUS                </td><td> NA                </td><td>1504               </td><td>15                 </td><td> 0                 </td><td>2013-12-31 15:00:00</td></tr>\n",
       "\t<tr><td>2013               </td><td>12                 </td><td>31                 </td><td>  NA               </td><td>1430               </td><td> NA                </td><td>  NA               </td><td>1750               </td><td> NA                </td><td>UA                 </td><td>1493               </td><td>NA                 </td><td>EWR                </td><td>LAX                </td><td> NA                </td><td>2454               </td><td>14                 </td><td>30                 </td><td>2013-12-31 14:00:00</td></tr>\n",
       "\t<tr><td>2013               </td><td>12                 </td><td>31                 </td><td>  NA               </td><td> 855               </td><td> NA                </td><td>  NA               </td><td>1142               </td><td> NA                </td><td>UA                 </td><td>1506               </td><td>NA                 </td><td>EWR                </td><td>JAC                </td><td> NA                </td><td>1874               </td><td> 8                 </td><td>55                 </td><td>2013-12-31 08:00:00</td></tr>\n",
       "\t<tr><td>2013               </td><td>12                 </td><td>31                 </td><td>  NA               </td><td> 705               </td><td> NA                </td><td>  NA               </td><td> 931               </td><td> NA                </td><td>UA                 </td><td>1729               </td><td>NA                 </td><td>EWR                </td><td>DEN                </td><td> NA                </td><td>1605               </td><td> 7                 </td><td> 5                 </td><td>2013-12-31 07:00:00</td></tr>\n",
       "\t<tr><td>2013               </td><td>12                 </td><td>31                 </td><td>  NA               </td><td> 825               </td><td> NA                </td><td>  NA               </td><td>1029               </td><td> NA                </td><td>US                 </td><td>1831               </td><td>NA                 </td><td>JFK                </td><td>CLT                </td><td> NA                </td><td> 541               </td><td> 8                 </td><td>25                 </td><td>2013-12-31 08:00:00</td></tr>\n",
       "\t<tr><td>2013               </td><td>12                 </td><td>31                 </td><td>  NA               </td><td>1615               </td><td> NA                </td><td>  NA               </td><td>1800               </td><td> NA                </td><td>MQ                 </td><td>3301               </td><td>N844MQ             </td><td>LGA                </td><td>RDU                </td><td> NA                </td><td> 431               </td><td>16                 </td><td>15                 </td><td>2013-12-31 16:00:00</td></tr>\n",
       "\t<tr><td>2013               </td><td>12                 </td><td>31                 </td><td>  NA               </td><td> 600               </td><td> NA                </td><td>  NA               </td><td> 735               </td><td> NA                </td><td>UA                 </td><td> 219               </td><td>NA                 </td><td>EWR                </td><td>ORD                </td><td> NA                </td><td> 719               </td><td> 6                 </td><td> 0                 </td><td>2013-12-31 06:00:00</td></tr>\n",
       "\t<tr><td>2013               </td><td>12                 </td><td>31                 </td><td>  NA               </td><td> 830               </td><td> NA                </td><td>  NA               </td><td>1154               </td><td> NA                </td><td>UA                 </td><td> 443               </td><td>NA                 </td><td>JFK                </td><td>LAX                </td><td> NA                </td><td>2475               </td><td> 8                 </td><td>30                 </td><td>2013-12-31 08:00:00</td></tr>\n",
       "</tbody>\n",
       "</table>\n"
      ],
      "text/latex": [
       "\\begin{tabular}{r|lllllllllllllllllll}\n",
       " year & month & day & dep\\_time & sched\\_dep\\_time & dep\\_delay & arr\\_time & sched\\_arr\\_time & arr\\_delay & carrier & flight & tailnum & origin & dest & air\\_time & distance & hour & minute & time\\_hour\\\\\n",
       "\\hline\n",
       "\t 2013                & 10                  & 1                   & 447                 & 500                 & -13                 & 614                 & 648                 & -34                 & US                  & 1877                & N538UW              & EWR                 & CLT                 &  69                 &  529                & 5                   &  0                  & 2013-10-01 05:00:00\\\\\n",
       "\t 2013                & 10                  & 1                   & 522                 & 517                 &   5                 & 735                 & 757                 & -22                 & UA                  &  252                & N556UA              & EWR                 & IAH                 & 174                 & 1400                & 5                   & 17                  & 2013-10-01 05:00:00\\\\\n",
       "\t 2013                & 10                  & 1                   & 536                 & 545                 &  -9                 & 809                 & 855                 & -46                 & AA                  & 2243                & N630AA              & JFK                 & MIA                 & 132                 & 1089                & 5                   & 45                  & 2013-10-01 05:00:00\\\\\n",
       "\t 2013                & 10                  & 1                   & 539                 & 545                 &  -6                 & 801                 & 827                 & -26                 & UA                  & 1714                & N37252              & LGA                 & IAH                 & 172                 & 1416                & 5                   & 45                  & 2013-10-01 05:00:00\\\\\n",
       "\t 2013                & 10                  & 1                   & 539                 & 545                 &  -6                 & 917                 & 933                 & -16                 & B6                  & 1403                & N789JB              & JFK                 & SJU                 & 186                 & 1598                & 5                   & 45                  & 2013-10-01 05:00:00\\\\\n",
       "\t 2013                & 10                  & 1                   & 544                 & 550                 &  -6                 & 912                 & 932                 & -20                 & B6                  &  939                & N593JB              & JFK                 & BQN                 & 191                 & 1576                & 5                   & 50                  & 2013-10-01 05:00:00\\\\\n",
       "\t 2013                & 10                  & 1                   & 549                 & 600                 & -11                 & 653                 & 716                 & -23                 & EV                  & 5716                & N830AS              & JFK                 & IAD                 &  46                 &  228                & 6                   &  0                  & 2013-10-01 06:00:00\\\\\n",
       "\t 2013                & 10                  & 1                   & 550                 & 600                 & -10                 & 648                 & 700                 & -12                 & US                  & 1909                & N949UW              & LGA                 & PHL                 &  38                 &   96                & 6                   &  0                  & 2013-10-01 06:00:00\\\\\n",
       "\t 2013                & 10                  & 1                   & 550                 & 600                 & -10                 & 649                 & 659                 & -10                 & US                  & 2167                & N749US              & LGA                 & DCA                 &  39                 &  214                & 6                   &  0                  & 2013-10-01 06:00:00\\\\\n",
       "\t 2013                & 10                  & 1                   & 551                 & 600                 &  -9                 & 727                 & 730                 &  -3                 & UA                  &  279                & N415UA              & EWR                 & ORD                 & 117                 &  719                & 6                   &  0                  & 2013-10-01 06:00:00\\\\\n",
       "\t 2013                & 10                  & 1                   & 551                 & 600                 &  -9                 & 710                 & 721                 & -11                 & UA                  & 1029                & N27722              & LGA                 & ORD                 & 114                 &  733                & 6                   &  0                  & 2013-10-01 06:00:00\\\\\n",
       "\t 2013                & 10                  & 1                   & 551                 & 600                 &  -9                 & 655                 & 708                 & -13                 & B6                  & 2180                & N238JB              & EWR                 & BOS                 &  40                 &  200                & 6                   &  0                  & 2013-10-01 06:00:00\\\\\n",
       "\t 2013                & 10                  & 1                   & 552                 & 600                 &  -8                 & 834                 & 905                 & -31                 & AA                  & 1175                & N3HVAA              & LGA                 & MIA                 & 140                 & 1096                & 6                   &  0                  & 2013-10-01 06:00:00\\\\\n",
       "\t 2013                & 10                  & 1                   & 553                 & 600                 &  -7                 & 829                 & 856                 & -27                 & B6                  &  601                & N760JB              & JFK                 & FLL                 & 135                 & 1069                & 6                   &  0                  & 2013-10-01 06:00:00\\\\\n",
       "\t 2013                & 10                  & 1                   & 553                 & 600                 &  -7                 & 811                 & 829                 & -18                 & DL                  &  563                & N961DL              & LGA                 & ATL                 & 105                 &  762                & 6                   &  0                  & 2013-10-01 06:00:00\\\\\n",
       "\t 2013                & 10                  & 1                   & 554                 & 600                 &  -6                 & 757                 & 843                 & -46                 & UA                  & 1014                & N37427              & EWR                 & IAH                 & 169                 & 1400                & 6                   &  0                  & 2013-10-01 06:00:00\\\\\n",
       "\t 2013                & 10                  & 1                   & 554                 & 600                 &  -6                 & 831                 & 858                 & -27                 & B6                  &  371                & N656JB              & LGA                 & FLL                 & 139                 & 1076                & 6                   &  0                  & 2013-10-01 06:00:00\\\\\n",
       "\t 2013                & 10                  & 1                   & 555                 & 600                 &  -5                 & 810                 & 840                 & -30                 & B6                  &   27                & N580JB              & EWR                 & MCO                 & 117                 &  937                & 6                   &  0                  & 2013-10-01 06:00:00\\\\\n",
       "\t 2013                & 10                  & 1                   & 556                 & 600                 &  -4                 & 810                 & 829                 & -19                 & EV                  & 4137                & N11539              & EWR                 & ATL                 & 102                 &  746                & 6                   &  0                  & 2013-10-01 06:00:00\\\\\n",
       "\t 2013                & 10                  & 1                   & 556                 & 600                 &  -4                 & 737                 & 758                 & -21                 & EV                  & 5068                & N135EV              & EWR                 & DTW                 &  80                 &  488                & 6                   &  0                  & 2013-10-01 06:00:00\\\\\n",
       "\t 2013                & 10                  & 1                   & 557                 & 600                 &  -3                 & 851                 & 923                 & -32                 & UA                  &  303                & N590UA              & JFK                 & SFO                 & 331                 & 2586                & 6                   &  0                  & 2013-10-01 06:00:00\\\\\n",
       "\t 2013                & 10                  & 1                   & 558                 & 600                 &  -2                 & 726                 & 715                 &  11                 & MQ                  & 3267                & N520MQ              & EWR                 & ORD                 & 111                 &  719                & 6                   &  0                  & 2013-10-01 06:00:00\\\\\n",
       "\t 2013                & 10                  & 1                   & 558                 & 600                 &  -2                 & 650                 & 701                 & -11                 & US                  & 2134                & N762US              & LGA                 & BOS                 &  33                 &  184                & 6                   &  0                  & 2013-10-01 06:00:00\\\\\n",
       "\t 2013                & 10                  & 1                   & 558                 & 600                 &  -2                 & 757                 & 815                 & -18                 & FL                  &  345                & N338AT              & LGA                 & ATL                 &  98                 &  762                & 6                   &  0                  & 2013-10-01 06:00:00\\\\\n",
       "\t 2013                & 10                  & 1                   & 558                 & 600                 &  -2                 & 743                 & 751                 &  -8                 & DL                  &  731                & N347NB              & LGA                 & DTW                 &  79                 &  502                & 6                   &  0                  & 2013-10-01 06:00:00\\\\\n",
       "\t 2013                & 10                  & 1                   & 559                 & 600                 &  -1                 & 831                 & 851                 & -20                 & UA                  &  698                & N827UA              & EWR                 & TPA                 & 128                 &  997                & 6                   &  0                  & 2013-10-01 06:00:00\\\\\n",
       "\t 2013                & 10                  & 1                   & 559                 & 600                 &  -1                 & 719                 & 730                 & -11                 & AA                  &  301                & N466AA              & LGA                 & ORD                 & 115                 &  733                & 6                   &  0                  & 2013-10-01 06:00:00\\\\\n",
       "\t 2013                & 10                  & 1                   & 600                 & 600                 &   0                 & 706                 & 717                 & -11                 & EV                  & 5747                & N877AS              & LGA                 & IAD                 &  48                 &  229                & 6                   &  0                  & 2013-10-01 06:00:00\\\\\n",
       "\t 2013                & 10                  & 1                   & 603                 & 610                 &  -7                 & 735                 & 745                 & -10                 & WN                  & 2609                & N201LV              & LGA                 & STL                 & 122                 &  888                & 6                   & 10                  & 2013-10-01 06:00:00\\\\\n",
       "\t 2013                & 10                  & 1                   & 604                 & 610                 &  -6                 & 751                 & 813                 & -22                 & DL                  & 1919                & N986DL              & LGA                 & MSP                 & 146                 & 1020                & 6                   & 10                  & 2013-10-01 06:00:00\\\\\n",
       "\t ... & ... & ... & ... & ... & ... & ... & ... & ... & ... & ... & ... & ... & ... & ... & ... & ... & ... & ...\\\\\n",
       "\t 2013                & 12                  & 31                  & 2155                & 2039                &  76                 &  253                & 2355                &  NA                 & B6                  & 1205                & N627JB              & JFK                 & PDX                 &  NA                 & 2454                & 20                  & 39                  & 2013-12-31 20:00:00\\\\\n",
       "\t 2013                & 12                  & 31                  & 2155                & 2150                &   5                 &  110                &   51                &  19                 & B6                  & 1901                & N729JB              & JFK                 & FLL                 & 164                 & 1069                & 21                  & 50                  & 2013-12-31 21:00:00\\\\\n",
       "\t 2013                & 12                  & 31                  & 2159                & 2155                &   4                 &   55                &   46                &   9                 & B6                  & 2053                & N593JB              & JFK                 & PBI                 & 155                 & 1028                & 21                  & 55                  & 2013-12-31 21:00:00\\\\\n",
       "\t 2013                & 12                  & 31                  & 2206                & 2110                &  56                 &   44                & 2339                &  65                 & B6                  &  775                & N184JB              & JFK                 & MSY                 & 195                 & 1182                & 21                  & 10                  & 2013-12-31 21:00:00\\\\\n",
       "\t 2013                & 12                  & 31                  & 2211                & 2159                &  12                 &  100                &   45                &  15                 & B6                  & 1183                & N715JB              & JFK                 & MCO                 & 148                 &  944                & 21                  & 59                  & 2013-12-31 21:00:00\\\\\n",
       "\t 2013                & 12                  & 31                  & 2218                & 2219                &  -1                 &  315                &  304                &  11                 & B6                  & 1203                & N625JB              & JFK                 & SJU                 & 202                 & 1598                & 22                  & 19                  & 2013-12-31 22:00:00\\\\\n",
       "\t 2013                & 12                  & 31                  & 2235                & 2245                & -10                 & 2351                & 2355                &  -4                 & B6                  &  234                & N355JB              & JFK                 & BTV                 &  49                 &  266                & 22                  & 45                  & 2013-12-31 22:00:00\\\\\n",
       "\t 2013                & 12                  & 31                  & 2245                & 2250                &  -5                 & 2359                & 2356                &   3                 & B6                  & 1816                & N318JB              & JFK                 & SYR                 &  51                 &  209                & 22                  & 50                  & 2013-12-31 22:00:00\\\\\n",
       "\t 2013                & 12                  & 31                  & 2310                & 2255                &  15                 &    7                & 2356                &  11                 & B6                  &  718                & N279JB              & JFK                 & BOS                 &  40                 &  187                & 22                  & 55                  & 2013-12-31 22:00:00\\\\\n",
       "\t 2013                & 12                  & 31                  & 2321                & 2250                &  31                 &   46                &    8                &  38                 & B6                  & 2002                & N179JB              & JFK                 & BUF                 &  66                 &  301                & 22                  & 50                  & 2013-12-31 22:00:00\\\\\n",
       "\t 2013                & 12                  & 31                  & 2328                & 2330                &  -2                 &  412                &  409                &   3                 & B6                  & 1389                & N651JB              & EWR                 & SJU                 & 198                 & 1608                & 23                  & 30                  & 2013-12-31 23:00:00\\\\\n",
       "\t 2013                & 12                  & 31                  & 2332                & 2245                &  47                 &   58                &    3                &  55                 & B6                  &  486                & N334JB              & JFK                 & ROC                 &  60                 &  264                & 22                  & 45                  & 2013-12-31 22:00:00\\\\\n",
       "\t 2013                & 12                  & 31                  & 2355                & 2359                &  -4                 &  430                &  440                & -10                 & B6                  & 1503                & N509JB              & JFK                 & SJU                 & 195                 & 1598                & 23                  & 59                  & 2013-12-31 23:00:00\\\\\n",
       "\t 2013                & 12                  & 31                  & 2356                & 2359                &  -3                 &  436                &  445                &  -9                 & B6                  &  745                & N665JB              & JFK                 & PSE                 & 200                 & 1617                & 23                  & 59                  & 2013-12-31 23:00:00\\\\\n",
       "\t 2013                & 12                  & 31                  &   NA                & 1520                &  NA                 &   NA                & 1705                &  NA                 & AA                  &  341                & N568AA              & LGA                 & ORD                 &  NA                 &  733                & 15                  & 20                  & 2013-12-31 15:00:00\\\\\n",
       "\t 2013                & 12                  & 31                  &   NA                & 2025                &  NA                 &   NA                & 2205                &  NA                 & AA                  &  371                & N482AA              & LGA                 & ORD                 &  NA                 &  733                & 20                  & 25                  & 2013-12-31 20:00:00\\\\\n",
       "\t 2013                & 12                  & 31                  &   NA                & 1932                &  NA                 &   NA                & 2305                &  NA                 & B6                  &  161                & N516JB              & JFK                 & SMF                 &  NA                 & 2521                & 19                  & 32                  & 2013-12-31 19:00:00\\\\\n",
       "\t 2013                & 12                  & 31                  &   NA                & 1505                &  NA                 &   NA                & 1725                &  NA                 & EV                  & 4181                & N24103              & EWR                 & MCI                 &  NA                 & 1092                & 15                  &  5                  & 2013-12-31 15:00:00\\\\\n",
       "\t 2013                & 12                  & 31                  &   NA                & 1000                &  NA                 &   NA                & 1252                &  NA                 & UA                  & 1124                & NA                  & EWR                 & EGE                 &  NA                 & 1725                & 10                  &  0                  & 2013-12-31 10:00:00\\\\\n",
       "\t 2013                & 12                  & 31                  &   NA                &  840                &  NA                 &   NA                & 1205                &  NA                 & UA                  & 1151                & NA                  & EWR                 & SEA                 &  NA                 & 2402                &  8                  & 40                  & 2013-12-31 08:00:00\\\\\n",
       "\t 2013                & 12                  & 31                  &   NA                &  754                &  NA                 &   NA                & 1118                &  NA                 & UA                  & 1455                & NA                  & EWR                 & LAX                 &  NA                 & 2454                &  7                  & 54                  & 2013-12-31 07:00:00\\\\\n",
       "\t 2013                & 12                  & 31                  &   NA                & 2000                &  NA                 &   NA                & 2146                &  NA                 & UA                  & 1482                & NA                  & EWR                 & ORD                 &  NA                 &  719                & 20                  &  0                  & 2013-12-31 20:00:00\\\\\n",
       "\t 2013                & 12                  & 31                  &   NA                & 1500                &  NA                 &   NA                & 1817                &  NA                 & UA                  & 1483                & NA                  & EWR                 & AUS                 &  NA                 & 1504                & 15                  &  0                  & 2013-12-31 15:00:00\\\\\n",
       "\t 2013                & 12                  & 31                  &   NA                & 1430                &  NA                 &   NA                & 1750                &  NA                 & UA                  & 1493                & NA                  & EWR                 & LAX                 &  NA                 & 2454                & 14                  & 30                  & 2013-12-31 14:00:00\\\\\n",
       "\t 2013                & 12                  & 31                  &   NA                &  855                &  NA                 &   NA                & 1142                &  NA                 & UA                  & 1506                & NA                  & EWR                 & JAC                 &  NA                 & 1874                &  8                  & 55                  & 2013-12-31 08:00:00\\\\\n",
       "\t 2013                & 12                  & 31                  &   NA                &  705                &  NA                 &   NA                &  931                &  NA                 & UA                  & 1729                & NA                  & EWR                 & DEN                 &  NA                 & 1605                &  7                  &  5                  & 2013-12-31 07:00:00\\\\\n",
       "\t 2013                & 12                  & 31                  &   NA                &  825                &  NA                 &   NA                & 1029                &  NA                 & US                  & 1831                & NA                  & JFK                 & CLT                 &  NA                 &  541                &  8                  & 25                  & 2013-12-31 08:00:00\\\\\n",
       "\t 2013                & 12                  & 31                  &   NA                & 1615                &  NA                 &   NA                & 1800                &  NA                 & MQ                  & 3301                & N844MQ              & LGA                 & RDU                 &  NA                 &  431                & 16                  & 15                  & 2013-12-31 16:00:00\\\\\n",
       "\t 2013                & 12                  & 31                  &   NA                &  600                &  NA                 &   NA                &  735                &  NA                 & UA                  &  219                & NA                  & EWR                 & ORD                 &  NA                 &  719                &  6                  &  0                  & 2013-12-31 06:00:00\\\\\n",
       "\t 2013                & 12                  & 31                  &   NA                &  830                &  NA                 &   NA                & 1154                &  NA                 & UA                  &  443                & NA                  & JFK                 & LAX                 &  NA                 & 2475                &  8                  & 30                  & 2013-12-31 08:00:00\\\\\n",
       "\\end{tabular}\n"
      ],
      "text/markdown": [
       "\n",
       "| year | month | day | dep_time | sched_dep_time | dep_delay | arr_time | sched_arr_time | arr_delay | carrier | flight | tailnum | origin | dest | air_time | distance | hour | minute | time_hour |\n",
       "|---|---|---|---|---|---|---|---|---|---|---|---|---|---|---|---|---|---|---|\n",
       "| 2013                | 10                  | 1                   | 447                 | 500                 | -13                 | 614                 | 648                 | -34                 | US                  | 1877                | N538UW              | EWR                 | CLT                 |  69                 |  529                | 5                   |  0                  | 2013-10-01 05:00:00 |\n",
       "| 2013                | 10                  | 1                   | 522                 | 517                 |   5                 | 735                 | 757                 | -22                 | UA                  |  252                | N556UA              | EWR                 | IAH                 | 174                 | 1400                | 5                   | 17                  | 2013-10-01 05:00:00 |\n",
       "| 2013                | 10                  | 1                   | 536                 | 545                 |  -9                 | 809                 | 855                 | -46                 | AA                  | 2243                | N630AA              | JFK                 | MIA                 | 132                 | 1089                | 5                   | 45                  | 2013-10-01 05:00:00 |\n",
       "| 2013                | 10                  | 1                   | 539                 | 545                 |  -6                 | 801                 | 827                 | -26                 | UA                  | 1714                | N37252              | LGA                 | IAH                 | 172                 | 1416                | 5                   | 45                  | 2013-10-01 05:00:00 |\n",
       "| 2013                | 10                  | 1                   | 539                 | 545                 |  -6                 | 917                 | 933                 | -16                 | B6                  | 1403                | N789JB              | JFK                 | SJU                 | 186                 | 1598                | 5                   | 45                  | 2013-10-01 05:00:00 |\n",
       "| 2013                | 10                  | 1                   | 544                 | 550                 |  -6                 | 912                 | 932                 | -20                 | B6                  |  939                | N593JB              | JFK                 | BQN                 | 191                 | 1576                | 5                   | 50                  | 2013-10-01 05:00:00 |\n",
       "| 2013                | 10                  | 1                   | 549                 | 600                 | -11                 | 653                 | 716                 | -23                 | EV                  | 5716                | N830AS              | JFK                 | IAD                 |  46                 |  228                | 6                   |  0                  | 2013-10-01 06:00:00 |\n",
       "| 2013                | 10                  | 1                   | 550                 | 600                 | -10                 | 648                 | 700                 | -12                 | US                  | 1909                | N949UW              | LGA                 | PHL                 |  38                 |   96                | 6                   |  0                  | 2013-10-01 06:00:00 |\n",
       "| 2013                | 10                  | 1                   | 550                 | 600                 | -10                 | 649                 | 659                 | -10                 | US                  | 2167                | N749US              | LGA                 | DCA                 |  39                 |  214                | 6                   |  0                  | 2013-10-01 06:00:00 |\n",
       "| 2013                | 10                  | 1                   | 551                 | 600                 |  -9                 | 727                 | 730                 |  -3                 | UA                  |  279                | N415UA              | EWR                 | ORD                 | 117                 |  719                | 6                   |  0                  | 2013-10-01 06:00:00 |\n",
       "| 2013                | 10                  | 1                   | 551                 | 600                 |  -9                 | 710                 | 721                 | -11                 | UA                  | 1029                | N27722              | LGA                 | ORD                 | 114                 |  733                | 6                   |  0                  | 2013-10-01 06:00:00 |\n",
       "| 2013                | 10                  | 1                   | 551                 | 600                 |  -9                 | 655                 | 708                 | -13                 | B6                  | 2180                | N238JB              | EWR                 | BOS                 |  40                 |  200                | 6                   |  0                  | 2013-10-01 06:00:00 |\n",
       "| 2013                | 10                  | 1                   | 552                 | 600                 |  -8                 | 834                 | 905                 | -31                 | AA                  | 1175                | N3HVAA              | LGA                 | MIA                 | 140                 | 1096                | 6                   |  0                  | 2013-10-01 06:00:00 |\n",
       "| 2013                | 10                  | 1                   | 553                 | 600                 |  -7                 | 829                 | 856                 | -27                 | B6                  |  601                | N760JB              | JFK                 | FLL                 | 135                 | 1069                | 6                   |  0                  | 2013-10-01 06:00:00 |\n",
       "| 2013                | 10                  | 1                   | 553                 | 600                 |  -7                 | 811                 | 829                 | -18                 | DL                  |  563                | N961DL              | LGA                 | ATL                 | 105                 |  762                | 6                   |  0                  | 2013-10-01 06:00:00 |\n",
       "| 2013                | 10                  | 1                   | 554                 | 600                 |  -6                 | 757                 | 843                 | -46                 | UA                  | 1014                | N37427              | EWR                 | IAH                 | 169                 | 1400                | 6                   |  0                  | 2013-10-01 06:00:00 |\n",
       "| 2013                | 10                  | 1                   | 554                 | 600                 |  -6                 | 831                 | 858                 | -27                 | B6                  |  371                | N656JB              | LGA                 | FLL                 | 139                 | 1076                | 6                   |  0                  | 2013-10-01 06:00:00 |\n",
       "| 2013                | 10                  | 1                   | 555                 | 600                 |  -5                 | 810                 | 840                 | -30                 | B6                  |   27                | N580JB              | EWR                 | MCO                 | 117                 |  937                | 6                   |  0                  | 2013-10-01 06:00:00 |\n",
       "| 2013                | 10                  | 1                   | 556                 | 600                 |  -4                 | 810                 | 829                 | -19                 | EV                  | 4137                | N11539              | EWR                 | ATL                 | 102                 |  746                | 6                   |  0                  | 2013-10-01 06:00:00 |\n",
       "| 2013                | 10                  | 1                   | 556                 | 600                 |  -4                 | 737                 | 758                 | -21                 | EV                  | 5068                | N135EV              | EWR                 | DTW                 |  80                 |  488                | 6                   |  0                  | 2013-10-01 06:00:00 |\n",
       "| 2013                | 10                  | 1                   | 557                 | 600                 |  -3                 | 851                 | 923                 | -32                 | UA                  |  303                | N590UA              | JFK                 | SFO                 | 331                 | 2586                | 6                   |  0                  | 2013-10-01 06:00:00 |\n",
       "| 2013                | 10                  | 1                   | 558                 | 600                 |  -2                 | 726                 | 715                 |  11                 | MQ                  | 3267                | N520MQ              | EWR                 | ORD                 | 111                 |  719                | 6                   |  0                  | 2013-10-01 06:00:00 |\n",
       "| 2013                | 10                  | 1                   | 558                 | 600                 |  -2                 | 650                 | 701                 | -11                 | US                  | 2134                | N762US              | LGA                 | BOS                 |  33                 |  184                | 6                   |  0                  | 2013-10-01 06:00:00 |\n",
       "| 2013                | 10                  | 1                   | 558                 | 600                 |  -2                 | 757                 | 815                 | -18                 | FL                  |  345                | N338AT              | LGA                 | ATL                 |  98                 |  762                | 6                   |  0                  | 2013-10-01 06:00:00 |\n",
       "| 2013                | 10                  | 1                   | 558                 | 600                 |  -2                 | 743                 | 751                 |  -8                 | DL                  |  731                | N347NB              | LGA                 | DTW                 |  79                 |  502                | 6                   |  0                  | 2013-10-01 06:00:00 |\n",
       "| 2013                | 10                  | 1                   | 559                 | 600                 |  -1                 | 831                 | 851                 | -20                 | UA                  |  698                | N827UA              | EWR                 | TPA                 | 128                 |  997                | 6                   |  0                  | 2013-10-01 06:00:00 |\n",
       "| 2013                | 10                  | 1                   | 559                 | 600                 |  -1                 | 719                 | 730                 | -11                 | AA                  |  301                | N466AA              | LGA                 | ORD                 | 115                 |  733                | 6                   |  0                  | 2013-10-01 06:00:00 |\n",
       "| 2013                | 10                  | 1                   | 600                 | 600                 |   0                 | 706                 | 717                 | -11                 | EV                  | 5747                | N877AS              | LGA                 | IAD                 |  48                 |  229                | 6                   |  0                  | 2013-10-01 06:00:00 |\n",
       "| 2013                | 10                  | 1                   | 603                 | 610                 |  -7                 | 735                 | 745                 | -10                 | WN                  | 2609                | N201LV              | LGA                 | STL                 | 122                 |  888                | 6                   | 10                  | 2013-10-01 06:00:00 |\n",
       "| 2013                | 10                  | 1                   | 604                 | 610                 |  -6                 | 751                 | 813                 | -22                 | DL                  | 1919                | N986DL              | LGA                 | MSP                 | 146                 | 1020                | 6                   | 10                  | 2013-10-01 06:00:00 |\n",
       "| ... | ... | ... | ... | ... | ... | ... | ... | ... | ... | ... | ... | ... | ... | ... | ... | ... | ... | ... |\n",
       "| 2013                | 12                  | 31                  | 2155                | 2039                |  76                 |  253                | 2355                |  NA                 | B6                  | 1205                | N627JB              | JFK                 | PDX                 |  NA                 | 2454                | 20                  | 39                  | 2013-12-31 20:00:00 |\n",
       "| 2013                | 12                  | 31                  | 2155                | 2150                |   5                 |  110                |   51                |  19                 | B6                  | 1901                | N729JB              | JFK                 | FLL                 | 164                 | 1069                | 21                  | 50                  | 2013-12-31 21:00:00 |\n",
       "| 2013                | 12                  | 31                  | 2159                | 2155                |   4                 |   55                |   46                |   9                 | B6                  | 2053                | N593JB              | JFK                 | PBI                 | 155                 | 1028                | 21                  | 55                  | 2013-12-31 21:00:00 |\n",
       "| 2013                | 12                  | 31                  | 2206                | 2110                |  56                 |   44                | 2339                |  65                 | B6                  |  775                | N184JB              | JFK                 | MSY                 | 195                 | 1182                | 21                  | 10                  | 2013-12-31 21:00:00 |\n",
       "| 2013                | 12                  | 31                  | 2211                | 2159                |  12                 |  100                |   45                |  15                 | B6                  | 1183                | N715JB              | JFK                 | MCO                 | 148                 |  944                | 21                  | 59                  | 2013-12-31 21:00:00 |\n",
       "| 2013                | 12                  | 31                  | 2218                | 2219                |  -1                 |  315                |  304                |  11                 | B6                  | 1203                | N625JB              | JFK                 | SJU                 | 202                 | 1598                | 22                  | 19                  | 2013-12-31 22:00:00 |\n",
       "| 2013                | 12                  | 31                  | 2235                | 2245                | -10                 | 2351                | 2355                |  -4                 | B6                  |  234                | N355JB              | JFK                 | BTV                 |  49                 |  266                | 22                  | 45                  | 2013-12-31 22:00:00 |\n",
       "| 2013                | 12                  | 31                  | 2245                | 2250                |  -5                 | 2359                | 2356                |   3                 | B6                  | 1816                | N318JB              | JFK                 | SYR                 |  51                 |  209                | 22                  | 50                  | 2013-12-31 22:00:00 |\n",
       "| 2013                | 12                  | 31                  | 2310                | 2255                |  15                 |    7                | 2356                |  11                 | B6                  |  718                | N279JB              | JFK                 | BOS                 |  40                 |  187                | 22                  | 55                  | 2013-12-31 22:00:00 |\n",
       "| 2013                | 12                  | 31                  | 2321                | 2250                |  31                 |   46                |    8                |  38                 | B6                  | 2002                | N179JB              | JFK                 | BUF                 |  66                 |  301                | 22                  | 50                  | 2013-12-31 22:00:00 |\n",
       "| 2013                | 12                  | 31                  | 2328                | 2330                |  -2                 |  412                |  409                |   3                 | B6                  | 1389                | N651JB              | EWR                 | SJU                 | 198                 | 1608                | 23                  | 30                  | 2013-12-31 23:00:00 |\n",
       "| 2013                | 12                  | 31                  | 2332                | 2245                |  47                 |   58                |    3                |  55                 | B6                  |  486                | N334JB              | JFK                 | ROC                 |  60                 |  264                | 22                  | 45                  | 2013-12-31 22:00:00 |\n",
       "| 2013                | 12                  | 31                  | 2355                | 2359                |  -4                 |  430                |  440                | -10                 | B6                  | 1503                | N509JB              | JFK                 | SJU                 | 195                 | 1598                | 23                  | 59                  | 2013-12-31 23:00:00 |\n",
       "| 2013                | 12                  | 31                  | 2356                | 2359                |  -3                 |  436                |  445                |  -9                 | B6                  |  745                | N665JB              | JFK                 | PSE                 | 200                 | 1617                | 23                  | 59                  | 2013-12-31 23:00:00 |\n",
       "| 2013                | 12                  | 31                  |   NA                | 1520                |  NA                 |   NA                | 1705                |  NA                 | AA                  |  341                | N568AA              | LGA                 | ORD                 |  NA                 |  733                | 15                  | 20                  | 2013-12-31 15:00:00 |\n",
       "| 2013                | 12                  | 31                  |   NA                | 2025                |  NA                 |   NA                | 2205                |  NA                 | AA                  |  371                | N482AA              | LGA                 | ORD                 |  NA                 |  733                | 20                  | 25                  | 2013-12-31 20:00:00 |\n",
       "| 2013                | 12                  | 31                  |   NA                | 1932                |  NA                 |   NA                | 2305                |  NA                 | B6                  |  161                | N516JB              | JFK                 | SMF                 |  NA                 | 2521                | 19                  | 32                  | 2013-12-31 19:00:00 |\n",
       "| 2013                | 12                  | 31                  |   NA                | 1505                |  NA                 |   NA                | 1725                |  NA                 | EV                  | 4181                | N24103              | EWR                 | MCI                 |  NA                 | 1092                | 15                  |  5                  | 2013-12-31 15:00:00 |\n",
       "| 2013                | 12                  | 31                  |   NA                | 1000                |  NA                 |   NA                | 1252                |  NA                 | UA                  | 1124                | NA                  | EWR                 | EGE                 |  NA                 | 1725                | 10                  |  0                  | 2013-12-31 10:00:00 |\n",
       "| 2013                | 12                  | 31                  |   NA                |  840                |  NA                 |   NA                | 1205                |  NA                 | UA                  | 1151                | NA                  | EWR                 | SEA                 |  NA                 | 2402                |  8                  | 40                  | 2013-12-31 08:00:00 |\n",
       "| 2013                | 12                  | 31                  |   NA                |  754                |  NA                 |   NA                | 1118                |  NA                 | UA                  | 1455                | NA                  | EWR                 | LAX                 |  NA                 | 2454                |  7                  | 54                  | 2013-12-31 07:00:00 |\n",
       "| 2013                | 12                  | 31                  |   NA                | 2000                |  NA                 |   NA                | 2146                |  NA                 | UA                  | 1482                | NA                  | EWR                 | ORD                 |  NA                 |  719                | 20                  |  0                  | 2013-12-31 20:00:00 |\n",
       "| 2013                | 12                  | 31                  |   NA                | 1500                |  NA                 |   NA                | 1817                |  NA                 | UA                  | 1483                | NA                  | EWR                 | AUS                 |  NA                 | 1504                | 15                  |  0                  | 2013-12-31 15:00:00 |\n",
       "| 2013                | 12                  | 31                  |   NA                | 1430                |  NA                 |   NA                | 1750                |  NA                 | UA                  | 1493                | NA                  | EWR                 | LAX                 |  NA                 | 2454                | 14                  | 30                  | 2013-12-31 14:00:00 |\n",
       "| 2013                | 12                  | 31                  |   NA                |  855                |  NA                 |   NA                | 1142                |  NA                 | UA                  | 1506                | NA                  | EWR                 | JAC                 |  NA                 | 1874                |  8                  | 55                  | 2013-12-31 08:00:00 |\n",
       "| 2013                | 12                  | 31                  |   NA                |  705                |  NA                 |   NA                |  931                |  NA                 | UA                  | 1729                | NA                  | EWR                 | DEN                 |  NA                 | 1605                |  7                  |  5                  | 2013-12-31 07:00:00 |\n",
       "| 2013                | 12                  | 31                  |   NA                |  825                |  NA                 |   NA                | 1029                |  NA                 | US                  | 1831                | NA                  | JFK                 | CLT                 |  NA                 |  541                |  8                  | 25                  | 2013-12-31 08:00:00 |\n",
       "| 2013                | 12                  | 31                  |   NA                | 1615                |  NA                 |   NA                | 1800                |  NA                 | MQ                  | 3301                | N844MQ              | LGA                 | RDU                 |  NA                 |  431                | 16                  | 15                  | 2013-12-31 16:00:00 |\n",
       "| 2013                | 12                  | 31                  |   NA                |  600                |  NA                 |   NA                |  735                |  NA                 | UA                  |  219                | NA                  | EWR                 | ORD                 |  NA                 |  719                |  6                  |  0                  | 2013-12-31 06:00:00 |\n",
       "| 2013                | 12                  | 31                  |   NA                |  830                |  NA                 |   NA                | 1154                |  NA                 | UA                  |  443                | NA                  | JFK                 | LAX                 |  NA                 | 2475                |  8                  | 30                  | 2013-12-31 08:00:00 |\n",
       "\n"
      ],
      "text/plain": [
       "      year month day dep_time sched_dep_time dep_delay arr_time sched_arr_time\n",
       "1     2013 10    1   447      500            -13       614      648           \n",
       "2     2013 10    1   522      517              5       735      757           \n",
       "3     2013 10    1   536      545             -9       809      855           \n",
       "4     2013 10    1   539      545             -6       801      827           \n",
       "5     2013 10    1   539      545             -6       917      933           \n",
       "6     2013 10    1   544      550             -6       912      932           \n",
       "7     2013 10    1   549      600            -11       653      716           \n",
       "8     2013 10    1   550      600            -10       648      700           \n",
       "9     2013 10    1   550      600            -10       649      659           \n",
       "10    2013 10    1   551      600             -9       727      730           \n",
       "11    2013 10    1   551      600             -9       710      721           \n",
       "12    2013 10    1   551      600             -9       655      708           \n",
       "13    2013 10    1   552      600             -8       834      905           \n",
       "14    2013 10    1   553      600             -7       829      856           \n",
       "15    2013 10    1   553      600             -7       811      829           \n",
       "16    2013 10    1   554      600             -6       757      843           \n",
       "17    2013 10    1   554      600             -6       831      858           \n",
       "18    2013 10    1   555      600             -5       810      840           \n",
       "19    2013 10    1   556      600             -4       810      829           \n",
       "20    2013 10    1   556      600             -4       737      758           \n",
       "21    2013 10    1   557      600             -3       851      923           \n",
       "22    2013 10    1   558      600             -2       726      715           \n",
       "23    2013 10    1   558      600             -2       650      701           \n",
       "24    2013 10    1   558      600             -2       757      815           \n",
       "25    2013 10    1   558      600             -2       743      751           \n",
       "26    2013 10    1   559      600             -1       831      851           \n",
       "27    2013 10    1   559      600             -1       719      730           \n",
       "28    2013 10    1   600      600              0       706      717           \n",
       "29    2013 10    1   603      610             -7       735      745           \n",
       "30    2013 10    1   604      610             -6       751      813           \n",
       "...   ...  ...   ... ...      ...            ...       ...      ...           \n",
       "56995 2013 12    31  2155     2039            76        253     2355          \n",
       "56996 2013 12    31  2155     2150             5        110       51          \n",
       "56997 2013 12    31  2159     2155             4         55       46          \n",
       "56998 2013 12    31  2206     2110            56         44     2339          \n",
       "56999 2013 12    31  2211     2159            12        100       45          \n",
       "57000 2013 12    31  2218     2219            -1        315      304          \n",
       "57001 2013 12    31  2235     2245           -10       2351     2355          \n",
       "57002 2013 12    31  2245     2250            -5       2359     2356          \n",
       "57003 2013 12    31  2310     2255            15          7     2356          \n",
       "57004 2013 12    31  2321     2250            31         46        8          \n",
       "57005 2013 12    31  2328     2330            -2        412      409          \n",
       "57006 2013 12    31  2332     2245            47         58        3          \n",
       "57007 2013 12    31  2355     2359            -4        430      440          \n",
       "57008 2013 12    31  2356     2359            -3        436      445          \n",
       "57009 2013 12    31    NA     1520            NA         NA     1705          \n",
       "57010 2013 12    31    NA     2025            NA         NA     2205          \n",
       "57011 2013 12    31    NA     1932            NA         NA     2305          \n",
       "57012 2013 12    31    NA     1505            NA         NA     1725          \n",
       "57013 2013 12    31    NA     1000            NA         NA     1252          \n",
       "57014 2013 12    31    NA      840            NA         NA     1205          \n",
       "57015 2013 12    31    NA      754            NA         NA     1118          \n",
       "57016 2013 12    31    NA     2000            NA         NA     2146          \n",
       "57017 2013 12    31    NA     1500            NA         NA     1817          \n",
       "57018 2013 12    31    NA     1430            NA         NA     1750          \n",
       "57019 2013 12    31    NA      855            NA         NA     1142          \n",
       "57020 2013 12    31    NA      705            NA         NA      931          \n",
       "57021 2013 12    31    NA      825            NA         NA     1029          \n",
       "57022 2013 12    31    NA     1615            NA         NA     1800          \n",
       "57023 2013 12    31    NA      600            NA         NA      735          \n",
       "57024 2013 12    31    NA      830            NA         NA     1154          \n",
       "      arr_delay carrier flight tailnum origin dest air_time distance hour\n",
       "1     -34       US      1877   N538UW  EWR    CLT   69       529     5   \n",
       "2     -22       UA       252   N556UA  EWR    IAH  174      1400     5   \n",
       "3     -46       AA      2243   N630AA  JFK    MIA  132      1089     5   \n",
       "4     -26       UA      1714   N37252  LGA    IAH  172      1416     5   \n",
       "5     -16       B6      1403   N789JB  JFK    SJU  186      1598     5   \n",
       "6     -20       B6       939   N593JB  JFK    BQN  191      1576     5   \n",
       "7     -23       EV      5716   N830AS  JFK    IAD   46       228     6   \n",
       "8     -12       US      1909   N949UW  LGA    PHL   38        96     6   \n",
       "9     -10       US      2167   N749US  LGA    DCA   39       214     6   \n",
       "10     -3       UA       279   N415UA  EWR    ORD  117       719     6   \n",
       "11    -11       UA      1029   N27722  LGA    ORD  114       733     6   \n",
       "12    -13       B6      2180   N238JB  EWR    BOS   40       200     6   \n",
       "13    -31       AA      1175   N3HVAA  LGA    MIA  140      1096     6   \n",
       "14    -27       B6       601   N760JB  JFK    FLL  135      1069     6   \n",
       "15    -18       DL       563   N961DL  LGA    ATL  105       762     6   \n",
       "16    -46       UA      1014   N37427  EWR    IAH  169      1400     6   \n",
       "17    -27       B6       371   N656JB  LGA    FLL  139      1076     6   \n",
       "18    -30       B6        27   N580JB  EWR    MCO  117       937     6   \n",
       "19    -19       EV      4137   N11539  EWR    ATL  102       746     6   \n",
       "20    -21       EV      5068   N135EV  EWR    DTW   80       488     6   \n",
       "21    -32       UA       303   N590UA  JFK    SFO  331      2586     6   \n",
       "22     11       MQ      3267   N520MQ  EWR    ORD  111       719     6   \n",
       "23    -11       US      2134   N762US  LGA    BOS   33       184     6   \n",
       "24    -18       FL       345   N338AT  LGA    ATL   98       762     6   \n",
       "25     -8       DL       731   N347NB  LGA    DTW   79       502     6   \n",
       "26    -20       UA       698   N827UA  EWR    TPA  128       997     6   \n",
       "27    -11       AA       301   N466AA  LGA    ORD  115       733     6   \n",
       "28    -11       EV      5747   N877AS  LGA    IAD   48       229     6   \n",
       "29    -10       WN      2609   N201LV  LGA    STL  122       888     6   \n",
       "30    -22       DL      1919   N986DL  LGA    MSP  146      1020     6   \n",
       "...   ...       ...     ...    ...     ...    ...  ...      ...      ... \n",
       "56995  NA       B6      1205   N627JB  JFK    PDX   NA      2454     20  \n",
       "56996  19       B6      1901   N729JB  JFK    FLL  164      1069     21  \n",
       "56997   9       B6      2053   N593JB  JFK    PBI  155      1028     21  \n",
       "56998  65       B6       775   N184JB  JFK    MSY  195      1182     21  \n",
       "56999  15       B6      1183   N715JB  JFK    MCO  148       944     21  \n",
       "57000  11       B6      1203   N625JB  JFK    SJU  202      1598     22  \n",
       "57001  -4       B6       234   N355JB  JFK    BTV   49       266     22  \n",
       "57002   3       B6      1816   N318JB  JFK    SYR   51       209     22  \n",
       "57003  11       B6       718   N279JB  JFK    BOS   40       187     22  \n",
       "57004  38       B6      2002   N179JB  JFK    BUF   66       301     22  \n",
       "57005   3       B6      1389   N651JB  EWR    SJU  198      1608     23  \n",
       "57006  55       B6       486   N334JB  JFK    ROC   60       264     22  \n",
       "57007 -10       B6      1503   N509JB  JFK    SJU  195      1598     23  \n",
       "57008  -9       B6       745   N665JB  JFK    PSE  200      1617     23  \n",
       "57009  NA       AA       341   N568AA  LGA    ORD   NA       733     15  \n",
       "57010  NA       AA       371   N482AA  LGA    ORD   NA       733     20  \n",
       "57011  NA       B6       161   N516JB  JFK    SMF   NA      2521     19  \n",
       "57012  NA       EV      4181   N24103  EWR    MCI   NA      1092     15  \n",
       "57013  NA       UA      1124   NA      EWR    EGE   NA      1725     10  \n",
       "57014  NA       UA      1151   NA      EWR    SEA   NA      2402      8  \n",
       "57015  NA       UA      1455   NA      EWR    LAX   NA      2454      7  \n",
       "57016  NA       UA      1482   NA      EWR    ORD   NA       719     20  \n",
       "57017  NA       UA      1483   NA      EWR    AUS   NA      1504     15  \n",
       "57018  NA       UA      1493   NA      EWR    LAX   NA      2454     14  \n",
       "57019  NA       UA      1506   NA      EWR    JAC   NA      1874      8  \n",
       "57020  NA       UA      1729   NA      EWR    DEN   NA      1605      7  \n",
       "57021  NA       US      1831   NA      JFK    CLT   NA       541      8  \n",
       "57022  NA       MQ      3301   N844MQ  LGA    RDU   NA       431     16  \n",
       "57023  NA       UA       219   NA      EWR    ORD   NA       719      6  \n",
       "57024  NA       UA       443   NA      JFK    LAX   NA      2475      8  \n",
       "      minute time_hour          \n",
       "1      0     2013-10-01 05:00:00\n",
       "2     17     2013-10-01 05:00:00\n",
       "3     45     2013-10-01 05:00:00\n",
       "4     45     2013-10-01 05:00:00\n",
       "5     45     2013-10-01 05:00:00\n",
       "6     50     2013-10-01 05:00:00\n",
       "7      0     2013-10-01 06:00:00\n",
       "8      0     2013-10-01 06:00:00\n",
       "9      0     2013-10-01 06:00:00\n",
       "10     0     2013-10-01 06:00:00\n",
       "11     0     2013-10-01 06:00:00\n",
       "12     0     2013-10-01 06:00:00\n",
       "13     0     2013-10-01 06:00:00\n",
       "14     0     2013-10-01 06:00:00\n",
       "15     0     2013-10-01 06:00:00\n",
       "16     0     2013-10-01 06:00:00\n",
       "17     0     2013-10-01 06:00:00\n",
       "18     0     2013-10-01 06:00:00\n",
       "19     0     2013-10-01 06:00:00\n",
       "20     0     2013-10-01 06:00:00\n",
       "21     0     2013-10-01 06:00:00\n",
       "22     0     2013-10-01 06:00:00\n",
       "23     0     2013-10-01 06:00:00\n",
       "24     0     2013-10-01 06:00:00\n",
       "25     0     2013-10-01 06:00:00\n",
       "26     0     2013-10-01 06:00:00\n",
       "27     0     2013-10-01 06:00:00\n",
       "28     0     2013-10-01 06:00:00\n",
       "29    10     2013-10-01 06:00:00\n",
       "30    10     2013-10-01 06:00:00\n",
       "...   ...    ...                \n",
       "56995 39     2013-12-31 20:00:00\n",
       "56996 50     2013-12-31 21:00:00\n",
       "56997 55     2013-12-31 21:00:00\n",
       "56998 10     2013-12-31 21:00:00\n",
       "56999 59     2013-12-31 21:00:00\n",
       "57000 19     2013-12-31 22:00:00\n",
       "57001 45     2013-12-31 22:00:00\n",
       "57002 50     2013-12-31 22:00:00\n",
       "57003 55     2013-12-31 22:00:00\n",
       "57004 50     2013-12-31 22:00:00\n",
       "57005 30     2013-12-31 23:00:00\n",
       "57006 45     2013-12-31 22:00:00\n",
       "57007 59     2013-12-31 23:00:00\n",
       "57008 59     2013-12-31 23:00:00\n",
       "57009 20     2013-12-31 15:00:00\n",
       "57010 25     2013-12-31 20:00:00\n",
       "57011 32     2013-12-31 19:00:00\n",
       "57012  5     2013-12-31 15:00:00\n",
       "57013  0     2013-12-31 10:00:00\n",
       "57014 40     2013-12-31 08:00:00\n",
       "57015 54     2013-12-31 07:00:00\n",
       "57016  0     2013-12-31 20:00:00\n",
       "57017  0     2013-12-31 15:00:00\n",
       "57018 30     2013-12-31 14:00:00\n",
       "57019 55     2013-12-31 08:00:00\n",
       "57020  5     2013-12-31 07:00:00\n",
       "57021 25     2013-12-31 08:00:00\n",
       "57022 15     2013-12-31 16:00:00\n",
       "57023  0     2013-12-31 06:00:00\n",
       "57024 30     2013-12-31 08:00:00"
      ]
     },
     "metadata": {},
     "output_type": "display_data"
    }
   ],
   "source": [
    "filter(flights, month %in% c(10,12))"
   ]
  },
  {
   "cell_type": "code",
   "execution_count": 31,
   "metadata": {},
   "outputs": [
    {
     "data": {
      "text/html": [
       "<table>\n",
       "<thead><tr><th scope=col>year</th><th scope=col>month</th><th scope=col>day</th><th scope=col>dep_delay</th><th scope=col>arr_delay</th><th scope=col>distance</th><th scope=col>air_time</th><th scope=col>gain</th><th scope=col>spped</th></tr></thead>\n",
       "<tbody>\n",
       "\t<tr><td>2013    </td><td>1       </td><td>1       </td><td> 2      </td><td> 11     </td><td>1400    </td><td>227     </td><td> -9     </td><td>370.0441</td></tr>\n",
       "\t<tr><td>2013    </td><td>1       </td><td>1       </td><td> 4      </td><td> 20     </td><td>1416    </td><td>227     </td><td>-16     </td><td>374.2731</td></tr>\n",
       "\t<tr><td>2013    </td><td>1       </td><td>1       </td><td> 2      </td><td> 33     </td><td>1089    </td><td>160     </td><td>-31     </td><td>408.3750</td></tr>\n",
       "\t<tr><td>2013    </td><td>1       </td><td>1       </td><td>-1      </td><td>-18     </td><td>1576    </td><td>183     </td><td> 17     </td><td>516.7213</td></tr>\n",
       "\t<tr><td>2013    </td><td>1       </td><td>1       </td><td>-6      </td><td>-25     </td><td> 762    </td><td>116     </td><td> 19     </td><td>394.1379</td></tr>\n",
       "\t<tr><td>2013    </td><td>1       </td><td>1       </td><td>-4      </td><td> 12     </td><td> 719    </td><td>150     </td><td>-16     </td><td>287.6000</td></tr>\n",
       "\t<tr><td>2013    </td><td>1       </td><td>1       </td><td>-5      </td><td> 19     </td><td>1065    </td><td>158     </td><td>-24     </td><td>404.4304</td></tr>\n",
       "\t<tr><td>2013    </td><td>1       </td><td>1       </td><td>-3      </td><td>-14     </td><td> 229    </td><td> 53     </td><td> 11     </td><td>259.2453</td></tr>\n",
       "\t<tr><td>2013    </td><td>1       </td><td>1       </td><td>-3      </td><td> -8     </td><td> 944    </td><td>140     </td><td>  5     </td><td>404.5714</td></tr>\n",
       "\t<tr><td>2013    </td><td>1       </td><td>1       </td><td>-2      </td><td>  8     </td><td> 733    </td><td>138     </td><td>-10     </td><td>318.6957</td></tr>\n",
       "\t<tr><td>2013    </td><td>1       </td><td>1       </td><td>-2      </td><td> -2     </td><td>1028    </td><td>149     </td><td>  0     </td><td>413.9597</td></tr>\n",
       "\t<tr><td>2013    </td><td>1       </td><td>1       </td><td>-2      </td><td> -3     </td><td>1005    </td><td>158     </td><td>  1     </td><td>381.6456</td></tr>\n",
       "\t<tr><td>2013    </td><td>1       </td><td>1       </td><td>-2      </td><td>  7     </td><td>2475    </td><td>345     </td><td> -9     </td><td>430.4348</td></tr>\n",
       "\t<tr><td>2013    </td><td>1       </td><td>1       </td><td>-2      </td><td>-14     </td><td>2565    </td><td>361     </td><td> 12     </td><td>426.3158</td></tr>\n",
       "\t<tr><td>2013    </td><td>1       </td><td>1       </td><td>-1      </td><td> 31     </td><td>1389    </td><td>257     </td><td>-32     </td><td>324.2802</td></tr>\n",
       "\t<tr><td>2013    </td><td>1       </td><td>1       </td><td> 0      </td><td> -4     </td><td> 187    </td><td> 44     </td><td>  4     </td><td>255.0000</td></tr>\n",
       "\t<tr><td>2013    </td><td>1       </td><td>1       </td><td>-1      </td><td> -8     </td><td>2227    </td><td>337     </td><td>  7     </td><td>396.4985</td></tr>\n",
       "\t<tr><td>2013    </td><td>1       </td><td>1       </td><td> 0      </td><td> -7     </td><td>1076    </td><td>152     </td><td>  7     </td><td>424.7368</td></tr>\n",
       "\t<tr><td>2013    </td><td>1       </td><td>1       </td><td> 0      </td><td> 12     </td><td> 762    </td><td>134     </td><td>-12     </td><td>341.1940</td></tr>\n",
       "\t<tr><td>2013    </td><td>1       </td><td>1       </td><td> 1      </td><td> -6     </td><td>1023    </td><td>147     </td><td>  7     </td><td>417.5510</td></tr>\n",
       "\t<tr><td>2013    </td><td>1       </td><td>1       </td><td>-8      </td><td> -8     </td><td>1020    </td><td>170     </td><td>  0     </td><td>360.0000</td></tr>\n",
       "\t<tr><td>2013    </td><td>1       </td><td>1       </td><td>-3      </td><td> 16     </td><td> 502    </td><td>105     </td><td>-19     </td><td>286.8571</td></tr>\n",
       "\t<tr><td>2013    </td><td>1       </td><td>1       </td><td>-4      </td><td>-12     </td><td>1085    </td><td>152     </td><td>  8     </td><td>428.2895</td></tr>\n",
       "\t<tr><td>2013    </td><td>1       </td><td>1       </td><td>-4      </td><td> -8     </td><td> 760    </td><td>128     </td><td>  4     </td><td>356.2500</td></tr>\n",
       "\t<tr><td>2013    </td><td>1       </td><td>1       </td><td> 0      </td><td>-17     </td><td>1085    </td><td>157     </td><td> 17     </td><td>414.6497</td></tr>\n",
       "\t<tr><td>2013    </td><td>1       </td><td>1       </td><td> 8      </td><td> 32     </td><td> 719    </td><td>139     </td><td>-24     </td><td>310.3597</td></tr>\n",
       "\t<tr><td>2013    </td><td>1       </td><td>1       </td><td>11      </td><td> 14     </td><td>2586    </td><td>366     </td><td> -3     </td><td>423.9344</td></tr>\n",
       "\t<tr><td>2013    </td><td>1       </td><td>1       </td><td> 3      </td><td>  4     </td><td>1074    </td><td>175     </td><td> -1     </td><td>368.2286</td></tr>\n",
       "\t<tr><td>2013    </td><td>1       </td><td>1       </td><td> 0      </td><td>-21     </td><td>1598    </td><td>182     </td><td> 21     </td><td>526.8132</td></tr>\n",
       "\t<tr><td>2013    </td><td>1       </td><td>1       </td><td> 0      </td><td> -9     </td><td> 746    </td><td>120     </td><td>  9     </td><td>373.0000</td></tr>\n",
       "\t<tr><td>...</td><td>...</td><td>...</td><td>...</td><td>...</td><td>...</td><td>...</td><td>...</td><td>...</td></tr>\n",
       "\t<tr><td>2013    </td><td>9       </td><td>30      </td><td> -2     </td><td>-24     </td><td> 305    </td><td> 45     </td><td> 22     </td><td>406.6667</td></tr>\n",
       "\t<tr><td>2013    </td><td>9       </td><td>30      </td><td> -2     </td><td> -9     </td><td> 529    </td><td> 72     </td><td>  7     </td><td>440.8333</td></tr>\n",
       "\t<tr><td>2013    </td><td>9       </td><td>30      </td><td> -2     </td><td>-31     </td><td>1626    </td><td>213     </td><td> 29     </td><td>458.0282</td></tr>\n",
       "\t<tr><td>2013    </td><td>9       </td><td>30      </td><td> 30     </td><td> -2     </td><td> 292    </td><td> 45     </td><td> 32     </td><td>389.3333</td></tr>\n",
       "\t<tr><td>2013    </td><td>9       </td><td>30      </td><td> -9     </td><td>-30     </td><td> 213    </td><td> 36     </td><td> 21     </td><td>355.0000</td></tr>\n",
       "\t<tr><td>2013    </td><td>9       </td><td>30      </td><td>  0     </td><td>-30     </td><td>2475    </td><td>298     </td><td> 30     </td><td>498.3221</td></tr>\n",
       "\t<tr><td>2013    </td><td>9       </td><td>30      </td><td> 13     </td><td> 11     </td><td> 284    </td><td> 47     </td><td>  2     </td><td>362.5532</td></tr>\n",
       "\t<tr><td>2013    </td><td>9       </td><td>30      </td><td>  0     </td><td>-25     </td><td>1598    </td><td>192     </td><td> 25     </td><td>499.3750</td></tr>\n",
       "\t<tr><td>2013    </td><td>9       </td><td>30      </td><td> 10     </td><td>  3     </td><td>1076    </td><td>139     </td><td>  7     </td><td>464.4604</td></tr>\n",
       "\t<tr><td>2013    </td><td>9       </td><td>30      </td><td> -7     </td><td>-23     </td><td> 200    </td><td> 37     </td><td> 16     </td><td>324.3243</td></tr>\n",
       "\t<tr><td>2013    </td><td>9       </td><td>30      </td><td> -9     </td><td>-16     </td><td> 209    </td><td> 39     </td><td>  7     </td><td>321.5385</td></tr>\n",
       "\t<tr><td>2013    </td><td>9       </td><td>30      </td><td>194     </td><td>194     </td><td> 301    </td><td> 50     </td><td>  0     </td><td>361.2000</td></tr>\n",
       "\t<tr><td>2013    </td><td>9       </td><td>30      </td><td> -2     </td><td>  8     </td><td> 378    </td><td> 61     </td><td>-10     </td><td>371.8033</td></tr>\n",
       "\t<tr><td>2013    </td><td>9       </td><td>30      </td><td> 27     </td><td>  7     </td><td> 764    </td><td> 97     </td><td> 20     </td><td>472.5773</td></tr>\n",
       "\t<tr><td>2013    </td><td>9       </td><td>30      </td><td> 72     </td><td> 57     </td><td> 872    </td><td>120     </td><td> 15     </td><td>436.0000</td></tr>\n",
       "\t<tr><td>2013    </td><td>9       </td><td>30      </td><td>-14     </td><td>-21     </td><td> 273    </td><td> 48     </td><td>  7     </td><td>341.2500</td></tr>\n",
       "\t<tr><td>2013    </td><td>9       </td><td>30      </td><td> 80     </td><td> 42     </td><td>2565    </td><td>318     </td><td> 38     </td><td>483.9623</td></tr>\n",
       "\t<tr><td>2013    </td><td>9       </td><td>30      </td><td>154     </td><td>130     </td><td> 944    </td><td>123     </td><td> 24     </td><td>460.4878</td></tr>\n",
       "\t<tr><td>2013    </td><td>9       </td><td>30      </td><td> -8     </td><td> -8     </td><td> 266    </td><td> 43     </td><td>  0     </td><td>371.1628</td></tr>\n",
       "\t<tr><td>2013    </td><td>9       </td><td>30      </td><td> -5     </td><td>-17     </td><td> 209    </td><td> 41     </td><td> 12     </td><td>305.8537</td></tr>\n",
       "\t<tr><td>2013    </td><td>9       </td><td>30      </td><td>-10     </td><td>-20     </td><td> 301    </td><td> 52     </td><td> 10     </td><td>347.3077</td></tr>\n",
       "\t<tr><td>2013    </td><td>9       </td><td>30      </td><td> -5     </td><td>-16     </td><td> 264    </td><td> 47     </td><td> 11     </td><td>337.0213</td></tr>\n",
       "\t<tr><td>2013    </td><td>9       </td><td>30      </td><td> 12     </td><td>  1     </td><td> 187    </td><td> 33     </td><td> 11     </td><td>340.0000</td></tr>\n",
       "\t<tr><td>2013    </td><td>9       </td><td>30      </td><td>-10     </td><td>-25     </td><td>1617    </td><td>196     </td><td> 15     </td><td>495.0000</td></tr>\n",
       "\t<tr><td>2013    </td><td>9       </td><td>30      </td><td> NA     </td><td> NA     </td><td> 764    </td><td> NA     </td><td> NA     </td><td>      NA</td></tr>\n",
       "\t<tr><td>2013    </td><td>9       </td><td>30      </td><td> NA     </td><td> NA     </td><td> 213    </td><td> NA     </td><td> NA     </td><td>      NA</td></tr>\n",
       "\t<tr><td>2013    </td><td>9       </td><td>30      </td><td> NA     </td><td> NA     </td><td> 198    </td><td> NA     </td><td> NA     </td><td>      NA</td></tr>\n",
       "\t<tr><td>2013    </td><td>9       </td><td>30      </td><td> NA     </td><td> NA     </td><td> 764    </td><td> NA     </td><td> NA     </td><td>      NA</td></tr>\n",
       "\t<tr><td>2013    </td><td>9       </td><td>30      </td><td> NA     </td><td> NA     </td><td> 419    </td><td> NA     </td><td> NA     </td><td>      NA</td></tr>\n",
       "\t<tr><td>2013    </td><td>9       </td><td>30      </td><td> NA     </td><td> NA     </td><td> 431    </td><td> NA     </td><td> NA     </td><td>      NA</td></tr>\n",
       "</tbody>\n",
       "</table>\n"
      ],
      "text/latex": [
       "\\begin{tabular}{r|lllllllll}\n",
       " year & month & day & dep\\_delay & arr\\_delay & distance & air\\_time & gain & spped\\\\\n",
       "\\hline\n",
       "\t 2013     & 1        & 1        &  2       &  11      & 1400     & 227      &  -9      & 370.0441\\\\\n",
       "\t 2013     & 1        & 1        &  4       &  20      & 1416     & 227      & -16      & 374.2731\\\\\n",
       "\t 2013     & 1        & 1        &  2       &  33      & 1089     & 160      & -31      & 408.3750\\\\\n",
       "\t 2013     & 1        & 1        & -1       & -18      & 1576     & 183      &  17      & 516.7213\\\\\n",
       "\t 2013     & 1        & 1        & -6       & -25      &  762     & 116      &  19      & 394.1379\\\\\n",
       "\t 2013     & 1        & 1        & -4       &  12      &  719     & 150      & -16      & 287.6000\\\\\n",
       "\t 2013     & 1        & 1        & -5       &  19      & 1065     & 158      & -24      & 404.4304\\\\\n",
       "\t 2013     & 1        & 1        & -3       & -14      &  229     &  53      &  11      & 259.2453\\\\\n",
       "\t 2013     & 1        & 1        & -3       &  -8      &  944     & 140      &   5      & 404.5714\\\\\n",
       "\t 2013     & 1        & 1        & -2       &   8      &  733     & 138      & -10      & 318.6957\\\\\n",
       "\t 2013     & 1        & 1        & -2       &  -2      & 1028     & 149      &   0      & 413.9597\\\\\n",
       "\t 2013     & 1        & 1        & -2       &  -3      & 1005     & 158      &   1      & 381.6456\\\\\n",
       "\t 2013     & 1        & 1        & -2       &   7      & 2475     & 345      &  -9      & 430.4348\\\\\n",
       "\t 2013     & 1        & 1        & -2       & -14      & 2565     & 361      &  12      & 426.3158\\\\\n",
       "\t 2013     & 1        & 1        & -1       &  31      & 1389     & 257      & -32      & 324.2802\\\\\n",
       "\t 2013     & 1        & 1        &  0       &  -4      &  187     &  44      &   4      & 255.0000\\\\\n",
       "\t 2013     & 1        & 1        & -1       &  -8      & 2227     & 337      &   7      & 396.4985\\\\\n",
       "\t 2013     & 1        & 1        &  0       &  -7      & 1076     & 152      &   7      & 424.7368\\\\\n",
       "\t 2013     & 1        & 1        &  0       &  12      &  762     & 134      & -12      & 341.1940\\\\\n",
       "\t 2013     & 1        & 1        &  1       &  -6      & 1023     & 147      &   7      & 417.5510\\\\\n",
       "\t 2013     & 1        & 1        & -8       &  -8      & 1020     & 170      &   0      & 360.0000\\\\\n",
       "\t 2013     & 1        & 1        & -3       &  16      &  502     & 105      & -19      & 286.8571\\\\\n",
       "\t 2013     & 1        & 1        & -4       & -12      & 1085     & 152      &   8      & 428.2895\\\\\n",
       "\t 2013     & 1        & 1        & -4       &  -8      &  760     & 128      &   4      & 356.2500\\\\\n",
       "\t 2013     & 1        & 1        &  0       & -17      & 1085     & 157      &  17      & 414.6497\\\\\n",
       "\t 2013     & 1        & 1        &  8       &  32      &  719     & 139      & -24      & 310.3597\\\\\n",
       "\t 2013     & 1        & 1        & 11       &  14      & 2586     & 366      &  -3      & 423.9344\\\\\n",
       "\t 2013     & 1        & 1        &  3       &   4      & 1074     & 175      &  -1      & 368.2286\\\\\n",
       "\t 2013     & 1        & 1        &  0       & -21      & 1598     & 182      &  21      & 526.8132\\\\\n",
       "\t 2013     & 1        & 1        &  0       &  -9      &  746     & 120      &   9      & 373.0000\\\\\n",
       "\t ... & ... & ... & ... & ... & ... & ... & ... & ...\\\\\n",
       "\t 2013     & 9        & 30       &  -2      & -24      &  305     &  45      &  22      & 406.6667\\\\\n",
       "\t 2013     & 9        & 30       &  -2      &  -9      &  529     &  72      &   7      & 440.8333\\\\\n",
       "\t 2013     & 9        & 30       &  -2      & -31      & 1626     & 213      &  29      & 458.0282\\\\\n",
       "\t 2013     & 9        & 30       &  30      &  -2      &  292     &  45      &  32      & 389.3333\\\\\n",
       "\t 2013     & 9        & 30       &  -9      & -30      &  213     &  36      &  21      & 355.0000\\\\\n",
       "\t 2013     & 9        & 30       &   0      & -30      & 2475     & 298      &  30      & 498.3221\\\\\n",
       "\t 2013     & 9        & 30       &  13      &  11      &  284     &  47      &   2      & 362.5532\\\\\n",
       "\t 2013     & 9        & 30       &   0      & -25      & 1598     & 192      &  25      & 499.3750\\\\\n",
       "\t 2013     & 9        & 30       &  10      &   3      & 1076     & 139      &   7      & 464.4604\\\\\n",
       "\t 2013     & 9        & 30       &  -7      & -23      &  200     &  37      &  16      & 324.3243\\\\\n",
       "\t 2013     & 9        & 30       &  -9      & -16      &  209     &  39      &   7      & 321.5385\\\\\n",
       "\t 2013     & 9        & 30       & 194      & 194      &  301     &  50      &   0      & 361.2000\\\\\n",
       "\t 2013     & 9        & 30       &  -2      &   8      &  378     &  61      & -10      & 371.8033\\\\\n",
       "\t 2013     & 9        & 30       &  27      &   7      &  764     &  97      &  20      & 472.5773\\\\\n",
       "\t 2013     & 9        & 30       &  72      &  57      &  872     & 120      &  15      & 436.0000\\\\\n",
       "\t 2013     & 9        & 30       & -14      & -21      &  273     &  48      &   7      & 341.2500\\\\\n",
       "\t 2013     & 9        & 30       &  80      &  42      & 2565     & 318      &  38      & 483.9623\\\\\n",
       "\t 2013     & 9        & 30       & 154      & 130      &  944     & 123      &  24      & 460.4878\\\\\n",
       "\t 2013     & 9        & 30       &  -8      &  -8      &  266     &  43      &   0      & 371.1628\\\\\n",
       "\t 2013     & 9        & 30       &  -5      & -17      &  209     &  41      &  12      & 305.8537\\\\\n",
       "\t 2013     & 9        & 30       & -10      & -20      &  301     &  52      &  10      & 347.3077\\\\\n",
       "\t 2013     & 9        & 30       &  -5      & -16      &  264     &  47      &  11      & 337.0213\\\\\n",
       "\t 2013     & 9        & 30       &  12      &   1      &  187     &  33      &  11      & 340.0000\\\\\n",
       "\t 2013     & 9        & 30       & -10      & -25      & 1617     & 196      &  15      & 495.0000\\\\\n",
       "\t 2013     & 9        & 30       &  NA      &  NA      &  764     &  NA      &  NA      &       NA\\\\\n",
       "\t 2013     & 9        & 30       &  NA      &  NA      &  213     &  NA      &  NA      &       NA\\\\\n",
       "\t 2013     & 9        & 30       &  NA      &  NA      &  198     &  NA      &  NA      &       NA\\\\\n",
       "\t 2013     & 9        & 30       &  NA      &  NA      &  764     &  NA      &  NA      &       NA\\\\\n",
       "\t 2013     & 9        & 30       &  NA      &  NA      &  419     &  NA      &  NA      &       NA\\\\\n",
       "\t 2013     & 9        & 30       &  NA      &  NA      &  431     &  NA      &  NA      &       NA\\\\\n",
       "\\end{tabular}\n"
      ],
      "text/markdown": [
       "\n",
       "| year | month | day | dep_delay | arr_delay | distance | air_time | gain | spped |\n",
       "|---|---|---|---|---|---|---|---|---|\n",
       "| 2013     | 1        | 1        |  2       |  11      | 1400     | 227      |  -9      | 370.0441 |\n",
       "| 2013     | 1        | 1        |  4       |  20      | 1416     | 227      | -16      | 374.2731 |\n",
       "| 2013     | 1        | 1        |  2       |  33      | 1089     | 160      | -31      | 408.3750 |\n",
       "| 2013     | 1        | 1        | -1       | -18      | 1576     | 183      |  17      | 516.7213 |\n",
       "| 2013     | 1        | 1        | -6       | -25      |  762     | 116      |  19      | 394.1379 |\n",
       "| 2013     | 1        | 1        | -4       |  12      |  719     | 150      | -16      | 287.6000 |\n",
       "| 2013     | 1        | 1        | -5       |  19      | 1065     | 158      | -24      | 404.4304 |\n",
       "| 2013     | 1        | 1        | -3       | -14      |  229     |  53      |  11      | 259.2453 |\n",
       "| 2013     | 1        | 1        | -3       |  -8      |  944     | 140      |   5      | 404.5714 |\n",
       "| 2013     | 1        | 1        | -2       |   8      |  733     | 138      | -10      | 318.6957 |\n",
       "| 2013     | 1        | 1        | -2       |  -2      | 1028     | 149      |   0      | 413.9597 |\n",
       "| 2013     | 1        | 1        | -2       |  -3      | 1005     | 158      |   1      | 381.6456 |\n",
       "| 2013     | 1        | 1        | -2       |   7      | 2475     | 345      |  -9      | 430.4348 |\n",
       "| 2013     | 1        | 1        | -2       | -14      | 2565     | 361      |  12      | 426.3158 |\n",
       "| 2013     | 1        | 1        | -1       |  31      | 1389     | 257      | -32      | 324.2802 |\n",
       "| 2013     | 1        | 1        |  0       |  -4      |  187     |  44      |   4      | 255.0000 |\n",
       "| 2013     | 1        | 1        | -1       |  -8      | 2227     | 337      |   7      | 396.4985 |\n",
       "| 2013     | 1        | 1        |  0       |  -7      | 1076     | 152      |   7      | 424.7368 |\n",
       "| 2013     | 1        | 1        |  0       |  12      |  762     | 134      | -12      | 341.1940 |\n",
       "| 2013     | 1        | 1        |  1       |  -6      | 1023     | 147      |   7      | 417.5510 |\n",
       "| 2013     | 1        | 1        | -8       |  -8      | 1020     | 170      |   0      | 360.0000 |\n",
       "| 2013     | 1        | 1        | -3       |  16      |  502     | 105      | -19      | 286.8571 |\n",
       "| 2013     | 1        | 1        | -4       | -12      | 1085     | 152      |   8      | 428.2895 |\n",
       "| 2013     | 1        | 1        | -4       |  -8      |  760     | 128      |   4      | 356.2500 |\n",
       "| 2013     | 1        | 1        |  0       | -17      | 1085     | 157      |  17      | 414.6497 |\n",
       "| 2013     | 1        | 1        |  8       |  32      |  719     | 139      | -24      | 310.3597 |\n",
       "| 2013     | 1        | 1        | 11       |  14      | 2586     | 366      |  -3      | 423.9344 |\n",
       "| 2013     | 1        | 1        |  3       |   4      | 1074     | 175      |  -1      | 368.2286 |\n",
       "| 2013     | 1        | 1        |  0       | -21      | 1598     | 182      |  21      | 526.8132 |\n",
       "| 2013     | 1        | 1        |  0       |  -9      |  746     | 120      |   9      | 373.0000 |\n",
       "| ... | ... | ... | ... | ... | ... | ... | ... | ... |\n",
       "| 2013     | 9        | 30       |  -2      | -24      |  305     |  45      |  22      | 406.6667 |\n",
       "| 2013     | 9        | 30       |  -2      |  -9      |  529     |  72      |   7      | 440.8333 |\n",
       "| 2013     | 9        | 30       |  -2      | -31      | 1626     | 213      |  29      | 458.0282 |\n",
       "| 2013     | 9        | 30       |  30      |  -2      |  292     |  45      |  32      | 389.3333 |\n",
       "| 2013     | 9        | 30       |  -9      | -30      |  213     |  36      |  21      | 355.0000 |\n",
       "| 2013     | 9        | 30       |   0      | -30      | 2475     | 298      |  30      | 498.3221 |\n",
       "| 2013     | 9        | 30       |  13      |  11      |  284     |  47      |   2      | 362.5532 |\n",
       "| 2013     | 9        | 30       |   0      | -25      | 1598     | 192      |  25      | 499.3750 |\n",
       "| 2013     | 9        | 30       |  10      |   3      | 1076     | 139      |   7      | 464.4604 |\n",
       "| 2013     | 9        | 30       |  -7      | -23      |  200     |  37      |  16      | 324.3243 |\n",
       "| 2013     | 9        | 30       |  -9      | -16      |  209     |  39      |   7      | 321.5385 |\n",
       "| 2013     | 9        | 30       | 194      | 194      |  301     |  50      |   0      | 361.2000 |\n",
       "| 2013     | 9        | 30       |  -2      |   8      |  378     |  61      | -10      | 371.8033 |\n",
       "| 2013     | 9        | 30       |  27      |   7      |  764     |  97      |  20      | 472.5773 |\n",
       "| 2013     | 9        | 30       |  72      |  57      |  872     | 120      |  15      | 436.0000 |\n",
       "| 2013     | 9        | 30       | -14      | -21      |  273     |  48      |   7      | 341.2500 |\n",
       "| 2013     | 9        | 30       |  80      |  42      | 2565     | 318      |  38      | 483.9623 |\n",
       "| 2013     | 9        | 30       | 154      | 130      |  944     | 123      |  24      | 460.4878 |\n",
       "| 2013     | 9        | 30       |  -8      |  -8      |  266     |  43      |   0      | 371.1628 |\n",
       "| 2013     | 9        | 30       |  -5      | -17      |  209     |  41      |  12      | 305.8537 |\n",
       "| 2013     | 9        | 30       | -10      | -20      |  301     |  52      |  10      | 347.3077 |\n",
       "| 2013     | 9        | 30       |  -5      | -16      |  264     |  47      |  11      | 337.0213 |\n",
       "| 2013     | 9        | 30       |  12      |   1      |  187     |  33      |  11      | 340.0000 |\n",
       "| 2013     | 9        | 30       | -10      | -25      | 1617     | 196      |  15      | 495.0000 |\n",
       "| 2013     | 9        | 30       |  NA      |  NA      |  764     |  NA      |  NA      |       NA |\n",
       "| 2013     | 9        | 30       |  NA      |  NA      |  213     |  NA      |  NA      |       NA |\n",
       "| 2013     | 9        | 30       |  NA      |  NA      |  198     |  NA      |  NA      |       NA |\n",
       "| 2013     | 9        | 30       |  NA      |  NA      |  764     |  NA      |  NA      |       NA |\n",
       "| 2013     | 9        | 30       |  NA      |  NA      |  419     |  NA      |  NA      |       NA |\n",
       "| 2013     | 9        | 30       |  NA      |  NA      |  431     |  NA      |  NA      |       NA |\n",
       "\n"
      ],
      "text/plain": [
       "       year month day dep_delay arr_delay distance air_time gain spped   \n",
       "1      2013 1     1    2         11       1400     227       -9  370.0441\n",
       "2      2013 1     1    4         20       1416     227      -16  374.2731\n",
       "3      2013 1     1    2         33       1089     160      -31  408.3750\n",
       "4      2013 1     1   -1        -18       1576     183       17  516.7213\n",
       "5      2013 1     1   -6        -25        762     116       19  394.1379\n",
       "6      2013 1     1   -4         12        719     150      -16  287.6000\n",
       "7      2013 1     1   -5         19       1065     158      -24  404.4304\n",
       "8      2013 1     1   -3        -14        229      53       11  259.2453\n",
       "9      2013 1     1   -3         -8        944     140        5  404.5714\n",
       "10     2013 1     1   -2          8        733     138      -10  318.6957\n",
       "11     2013 1     1   -2         -2       1028     149        0  413.9597\n",
       "12     2013 1     1   -2         -3       1005     158        1  381.6456\n",
       "13     2013 1     1   -2          7       2475     345       -9  430.4348\n",
       "14     2013 1     1   -2        -14       2565     361       12  426.3158\n",
       "15     2013 1     1   -1         31       1389     257      -32  324.2802\n",
       "16     2013 1     1    0         -4        187      44        4  255.0000\n",
       "17     2013 1     1   -1         -8       2227     337        7  396.4985\n",
       "18     2013 1     1    0         -7       1076     152        7  424.7368\n",
       "19     2013 1     1    0         12        762     134      -12  341.1940\n",
       "20     2013 1     1    1         -6       1023     147        7  417.5510\n",
       "21     2013 1     1   -8         -8       1020     170        0  360.0000\n",
       "22     2013 1     1   -3         16        502     105      -19  286.8571\n",
       "23     2013 1     1   -4        -12       1085     152        8  428.2895\n",
       "24     2013 1     1   -4         -8        760     128        4  356.2500\n",
       "25     2013 1     1    0        -17       1085     157       17  414.6497\n",
       "26     2013 1     1    8         32        719     139      -24  310.3597\n",
       "27     2013 1     1   11         14       2586     366       -3  423.9344\n",
       "28     2013 1     1    3          4       1074     175       -1  368.2286\n",
       "29     2013 1     1    0        -21       1598     182       21  526.8132\n",
       "30     2013 1     1    0         -9        746     120        9  373.0000\n",
       "...    ...  ...   ... ...       ...       ...      ...      ...  ...     \n",
       "336747 2013 9     30   -2       -24        305      45       22  406.6667\n",
       "336748 2013 9     30   -2        -9        529      72        7  440.8333\n",
       "336749 2013 9     30   -2       -31       1626     213       29  458.0282\n",
       "336750 2013 9     30   30        -2        292      45       32  389.3333\n",
       "336751 2013 9     30   -9       -30        213      36       21  355.0000\n",
       "336752 2013 9     30    0       -30       2475     298       30  498.3221\n",
       "336753 2013 9     30   13        11        284      47        2  362.5532\n",
       "336754 2013 9     30    0       -25       1598     192       25  499.3750\n",
       "336755 2013 9     30   10         3       1076     139        7  464.4604\n",
       "336756 2013 9     30   -7       -23        200      37       16  324.3243\n",
       "336757 2013 9     30   -9       -16        209      39        7  321.5385\n",
       "336758 2013 9     30  194       194        301      50        0  361.2000\n",
       "336759 2013 9     30   -2         8        378      61      -10  371.8033\n",
       "336760 2013 9     30   27         7        764      97       20  472.5773\n",
       "336761 2013 9     30   72        57        872     120       15  436.0000\n",
       "336762 2013 9     30  -14       -21        273      48        7  341.2500\n",
       "336763 2013 9     30   80        42       2565     318       38  483.9623\n",
       "336764 2013 9     30  154       130        944     123       24  460.4878\n",
       "336765 2013 9     30   -8        -8        266      43        0  371.1628\n",
       "336766 2013 9     30   -5       -17        209      41       12  305.8537\n",
       "336767 2013 9     30  -10       -20        301      52       10  347.3077\n",
       "336768 2013 9     30   -5       -16        264      47       11  337.0213\n",
       "336769 2013 9     30   12         1        187      33       11  340.0000\n",
       "336770 2013 9     30  -10       -25       1617     196       15  495.0000\n",
       "336771 2013 9     30   NA        NA        764      NA       NA        NA\n",
       "336772 2013 9     30   NA        NA        213      NA       NA        NA\n",
       "336773 2013 9     30   NA        NA        198      NA       NA        NA\n",
       "336774 2013 9     30   NA        NA        764      NA       NA        NA\n",
       "336775 2013 9     30   NA        NA        419      NA       NA        NA\n",
       "336776 2013 9     30   NA        NA        431      NA       NA        NA"
      ]
     },
     "metadata": {},
     "output_type": "display_data"
    }
   ],
   "source": [
    "flights_sml <- select(flights, year:day, ends_with('delay'),\n",
    "                     distance, air_time)\n",
    "mutate(flights_sml, \n",
    "      gain = dep_delay-arr_delay,\n",
    "      spped = distance / air_time * 60)"
   ]
  },
  {
   "cell_type": "code",
   "execution_count": 35,
   "metadata": {},
   "outputs": [
    {
     "data": {
      "text/html": [
       "<table>\n",
       "<thead><tr><th scope=col>origin</th><th scope=col>count</th><th scope=col>dist</th></tr></thead>\n",
       "<tbody>\n",
       "\t<tr><td>EWR      </td><td>120835   </td><td>1056.7428</td></tr>\n",
       "\t<tr><td>JFK      </td><td>111279   </td><td>1266.2491</td></tr>\n",
       "\t<tr><td>LGA      </td><td>104662   </td><td> 779.8357</td></tr>\n",
       "</tbody>\n",
       "</table>\n"
      ],
      "text/latex": [
       "\\begin{tabular}{r|lll}\n",
       " origin & count & dist\\\\\n",
       "\\hline\n",
       "\t EWR       & 120835    & 1056.7428\\\\\n",
       "\t JFK       & 111279    & 1266.2491\\\\\n",
       "\t LGA       & 104662    &  779.8357\\\\\n",
       "\\end{tabular}\n"
      ],
      "text/markdown": [
       "\n",
       "| origin | count | dist |\n",
       "|---|---|---|\n",
       "| EWR       | 120835    | 1056.7428 |\n",
       "| JFK       | 111279    | 1266.2491 |\n",
       "| LGA       | 104662    |  779.8357 |\n",
       "\n"
      ],
      "text/plain": [
       "  origin count  dist     \n",
       "1 EWR    120835 1056.7428\n",
       "2 JFK    111279 1266.2491\n",
       "3 LGA    104662  779.8357"
      ]
     },
     "metadata": {},
     "output_type": "display_data"
    }
   ],
   "source": [
    "flights %>%\n",
    "group_by(origin) %>%\n",
    "        summarize(count = n(), dist = mean(distance, na.rm=TRUE))"
   ]
  },
  {
   "cell_type": "code",
   "execution_count": 38,
   "metadata": {},
   "outputs": [
    {
     "data": {
      "image/png": "[encoded data removed]",
      "text/plain": [
       "plot without title"
      ]
     },
     "metadata": {},
     "output_type": "display_data"
    }
   ],
   "source": [
    "temp2 <- flights %>%\n",
    "group_by(origin) %>%\n",
    "        summarize(count = n(), dist = mean(distance, na.rm=TRUE))\n",
    " \n",
    "ggplot(data = temp2, aes(x = origin, y = count)) + geom_bar(stat='identity')"
   ]
  },
  {
   "cell_type": "code",
   "execution_count": null,
   "metadata": {},
   "outputs": [],
   "source": []
  },
  {
   "cell_type": "code",
   "execution_count": 39,
   "metadata": {},
   "outputs": [],
   "source": [
    "library(tidyverse)"
   ]
  },
  {
   "cell_type": "code",
   "execution_count": 40,
   "metadata": {},
   "outputs": [
    {
     "data": {
      "text/html": [
       "<table>\n",
       "<thead><tr><th scope=col>country</th><th scope=col>year</th><th scope=col>cases</th><th scope=col>population</th></tr></thead>\n",
       "<tbody>\n",
       "\t<tr><td>Afghanistan</td><td>1999       </td><td>   745     </td><td>  19987071 </td></tr>\n",
       "\t<tr><td>Afghanistan</td><td>2000       </td><td>  2666     </td><td>  20595360 </td></tr>\n",
       "\t<tr><td>Brazil     </td><td>1999       </td><td> 37737     </td><td> 172006362 </td></tr>\n",
       "\t<tr><td>Brazil     </td><td>2000       </td><td> 80488     </td><td> 174504898 </td></tr>\n",
       "\t<tr><td>China      </td><td>1999       </td><td>212258     </td><td>1272915272 </td></tr>\n",
       "\t<tr><td>China      </td><td>2000       </td><td>213766     </td><td>1280428583 </td></tr>\n",
       "</tbody>\n",
       "</table>\n"
      ],
      "text/latex": [
       "\\begin{tabular}{r|llll}\n",
       " country & year & cases & population\\\\\n",
       "\\hline\n",
       "\t Afghanistan & 1999        &    745      &   19987071 \\\\\n",
       "\t Afghanistan & 2000        &   2666      &   20595360 \\\\\n",
       "\t Brazil      & 1999        &  37737      &  172006362 \\\\\n",
       "\t Brazil      & 2000        &  80488      &  174504898 \\\\\n",
       "\t China       & 1999        & 212258      & 1272915272 \\\\\n",
       "\t China       & 2000        & 213766      & 1280428583 \\\\\n",
       "\\end{tabular}\n"
      ],
      "text/markdown": [
       "\n",
       "| country | year | cases | population |\n",
       "|---|---|---|---|\n",
       "| Afghanistan | 1999        |    745      |   19987071  |\n",
       "| Afghanistan | 2000        |   2666      |   20595360  |\n",
       "| Brazil      | 1999        |  37737      |  172006362  |\n",
       "| Brazil      | 2000        |  80488      |  174504898  |\n",
       "| China       | 1999        | 212258      | 1272915272  |\n",
       "| China       | 2000        | 213766      | 1280428583  |\n",
       "\n"
      ],
      "text/plain": [
       "  country     year cases  population\n",
       "1 Afghanistan 1999    745   19987071\n",
       "2 Afghanistan 2000   2666   20595360\n",
       "3 Brazil      1999  37737  172006362\n",
       "4 Brazil      2000  80488  174504898\n",
       "5 China       1999 212258 1272915272\n",
       "6 China       2000 213766 1280428583"
      ]
     },
     "metadata": {},
     "output_type": "display_data"
    }
   ],
   "source": [
    "table1"
   ]
  },
  {
   "cell_type": "code",
   "execution_count": 43,
   "metadata": {},
   "outputs": [
    {
     "data": {
      "text/html": [
       "<table>\n",
       "<thead><tr><th scope=col>country</th><th scope=col>year</th><th scope=col>cases</th></tr></thead>\n",
       "<tbody>\n",
       "\t<tr><td>Afghanistan</td><td>1999       </td><td>   745     </td></tr>\n",
       "\t<tr><td>Brazil     </td><td>1999       </td><td> 37737     </td></tr>\n",
       "\t<tr><td>China      </td><td>1999       </td><td>212258     </td></tr>\n",
       "\t<tr><td>Afghanistan</td><td>2000       </td><td>  2666     </td></tr>\n",
       "\t<tr><td>Brazil     </td><td>2000       </td><td> 80488     </td></tr>\n",
       "\t<tr><td>China      </td><td>2000       </td><td>213766     </td></tr>\n",
       "</tbody>\n",
       "</table>\n"
      ],
      "text/latex": [
       "\\begin{tabular}{r|lll}\n",
       " country & year & cases\\\\\n",
       "\\hline\n",
       "\t Afghanistan & 1999        &    745     \\\\\n",
       "\t Brazil      & 1999        &  37737     \\\\\n",
       "\t China       & 1999        & 212258     \\\\\n",
       "\t Afghanistan & 2000        &   2666     \\\\\n",
       "\t Brazil      & 2000        &  80488     \\\\\n",
       "\t China       & 2000        & 213766     \\\\\n",
       "\\end{tabular}\n"
      ],
      "text/markdown": [
       "\n",
       "| country | year | cases |\n",
       "|---|---|---|\n",
       "| Afghanistan | 1999        |    745      |\n",
       "| Brazil      | 1999        |  37737      |\n",
       "| China       | 1999        | 212258      |\n",
       "| Afghanistan | 2000        |   2666      |\n",
       "| Brazil      | 2000        |  80488      |\n",
       "| China       | 2000        | 213766      |\n",
       "\n"
      ],
      "text/plain": [
       "  country     year cases \n",
       "1 Afghanistan 1999    745\n",
       "2 Brazil      1999  37737\n",
       "3 China       1999 212258\n",
       "4 Afghanistan 2000   2666\n",
       "5 Brazil      2000  80488\n",
       "6 China       2000 213766"
      ]
     },
     "metadata": {},
     "output_type": "display_data"
    }
   ],
   "source": [
    "table4a %>%\n",
    "gather('1999','2000', key = 'year', value = 'cases')"
   ]
  },
  {
   "cell_type": "code",
   "execution_count": 44,
   "metadata": {},
   "outputs": [
    {
     "data": {
      "text/html": [
       "<table>\n",
       "<thead><tr><th scope=col>country</th><th scope=col>year</th><th scope=col>type</th><th scope=col>count</th></tr></thead>\n",
       "<tbody>\n",
       "\t<tr><td>Afghanistan</td><td>1999       </td><td>cases      </td><td>       745 </td></tr>\n",
       "\t<tr><td>Afghanistan</td><td>1999       </td><td>population </td><td>  19987071 </td></tr>\n",
       "\t<tr><td>Afghanistan</td><td>2000       </td><td>cases      </td><td>      2666 </td></tr>\n",
       "\t<tr><td>Afghanistan</td><td>2000       </td><td>population </td><td>  20595360 </td></tr>\n",
       "\t<tr><td>Brazil     </td><td>1999       </td><td>cases      </td><td>     37737 </td></tr>\n",
       "\t<tr><td>Brazil     </td><td>1999       </td><td>population </td><td> 172006362 </td></tr>\n",
       "\t<tr><td>Brazil     </td><td>2000       </td><td>cases      </td><td>     80488 </td></tr>\n",
       "\t<tr><td>Brazil     </td><td>2000       </td><td>population </td><td> 174504898 </td></tr>\n",
       "\t<tr><td>China      </td><td>1999       </td><td>cases      </td><td>    212258 </td></tr>\n",
       "\t<tr><td>China      </td><td>1999       </td><td>population </td><td>1272915272 </td></tr>\n",
       "\t<tr><td>China      </td><td>2000       </td><td>cases      </td><td>    213766 </td></tr>\n",
       "\t<tr><td>China      </td><td>2000       </td><td>population </td><td>1280428583 </td></tr>\n",
       "</tbody>\n",
       "</table>\n"
      ],
      "text/latex": [
       "\\begin{tabular}{r|llll}\n",
       " country & year & type & count\\\\\n",
       "\\hline\n",
       "\t Afghanistan & 1999        & cases       &        745 \\\\\n",
       "\t Afghanistan & 1999        & population  &   19987071 \\\\\n",
       "\t Afghanistan & 2000        & cases       &       2666 \\\\\n",
       "\t Afghanistan & 2000        & population  &   20595360 \\\\\n",
       "\t Brazil      & 1999        & cases       &      37737 \\\\\n",
       "\t Brazil      & 1999        & population  &  172006362 \\\\\n",
       "\t Brazil      & 2000        & cases       &      80488 \\\\\n",
       "\t Brazil      & 2000        & population  &  174504898 \\\\\n",
       "\t China       & 1999        & cases       &     212258 \\\\\n",
       "\t China       & 1999        & population  & 1272915272 \\\\\n",
       "\t China       & 2000        & cases       &     213766 \\\\\n",
       "\t China       & 2000        & population  & 1280428583 \\\\\n",
       "\\end{tabular}\n"
      ],
      "text/markdown": [
       "\n",
       "| country | year | type | count |\n",
       "|---|---|---|---|\n",
       "| Afghanistan | 1999        | cases       |        745  |\n",
       "| Afghanistan | 1999        | population  |   19987071  |\n",
       "| Afghanistan | 2000        | cases       |       2666  |\n",
       "| Afghanistan | 2000        | population  |   20595360  |\n",
       "| Brazil      | 1999        | cases       |      37737  |\n",
       "| Brazil      | 1999        | population  |  172006362  |\n",
       "| Brazil      | 2000        | cases       |      80488  |\n",
       "| Brazil      | 2000        | population  |  174504898  |\n",
       "| China       | 1999        | cases       |     212258  |\n",
       "| China       | 1999        | population  | 1272915272  |\n",
       "| China       | 2000        | cases       |     213766  |\n",
       "| China       | 2000        | population  | 1280428583  |\n",
       "\n"
      ],
      "text/plain": [
       "   country     year type       count     \n",
       "1  Afghanistan 1999 cases             745\n",
       "2  Afghanistan 1999 population   19987071\n",
       "3  Afghanistan 2000 cases            2666\n",
       "4  Afghanistan 2000 population   20595360\n",
       "5  Brazil      1999 cases           37737\n",
       "6  Brazil      1999 population  172006362\n",
       "7  Brazil      2000 cases           80488\n",
       "8  Brazil      2000 population  174504898\n",
       "9  China       1999 cases          212258\n",
       "10 China       1999 population 1272915272\n",
       "11 China       2000 cases          213766\n",
       "12 China       2000 population 1280428583"
      ]
     },
     "metadata": {},
     "output_type": "display_data"
    }
   ],
   "source": [
    "table2"
   ]
  },
  {
   "cell_type": "code",
   "execution_count": 45,
   "metadata": {},
   "outputs": [
    {
     "data": {
      "text/html": [
       "<table>\n",
       "<thead><tr><th scope=col>country</th><th scope=col>year</th><th scope=col>cases</th><th scope=col>population</th></tr></thead>\n",
       "<tbody>\n",
       "\t<tr><td>Afghanistan</td><td>1999       </td><td>   745     </td><td>  19987071 </td></tr>\n",
       "\t<tr><td>Afghanistan</td><td>2000       </td><td>  2666     </td><td>  20595360 </td></tr>\n",
       "\t<tr><td>Brazil     </td><td>1999       </td><td> 37737     </td><td> 172006362 </td></tr>\n",
       "\t<tr><td>Brazil     </td><td>2000       </td><td> 80488     </td><td> 174504898 </td></tr>\n",
       "\t<tr><td>China      </td><td>1999       </td><td>212258     </td><td>1272915272 </td></tr>\n",
       "\t<tr><td>China      </td><td>2000       </td><td>213766     </td><td>1280428583 </td></tr>\n",
       "</tbody>\n",
       "</table>\n"
      ],
      "text/latex": [
       "\\begin{tabular}{r|llll}\n",
       " country & year & cases & population\\\\\n",
       "\\hline\n",
       "\t Afghanistan & 1999        &    745      &   19987071 \\\\\n",
       "\t Afghanistan & 2000        &   2666      &   20595360 \\\\\n",
       "\t Brazil      & 1999        &  37737      &  172006362 \\\\\n",
       "\t Brazil      & 2000        &  80488      &  174504898 \\\\\n",
       "\t China       & 1999        & 212258      & 1272915272 \\\\\n",
       "\t China       & 2000        & 213766      & 1280428583 \\\\\n",
       "\\end{tabular}\n"
      ],
      "text/markdown": [
       "\n",
       "| country | year | cases | population |\n",
       "|---|---|---|---|\n",
       "| Afghanistan | 1999        |    745      |   19987071  |\n",
       "| Afghanistan | 2000        |   2666      |   20595360  |\n",
       "| Brazil      | 1999        |  37737      |  172006362  |\n",
       "| Brazil      | 2000        |  80488      |  174504898  |\n",
       "| China       | 1999        | 212258      | 1272915272  |\n",
       "| China       | 2000        | 213766      | 1280428583  |\n",
       "\n"
      ],
      "text/plain": [
       "  country     year cases  population\n",
       "1 Afghanistan 1999    745   19987071\n",
       "2 Afghanistan 2000   2666   20595360\n",
       "3 Brazil      1999  37737  172006362\n",
       "4 Brazil      2000  80488  174504898\n",
       "5 China       1999 212258 1272915272\n",
       "6 China       2000 213766 1280428583"
      ]
     },
     "metadata": {},
     "output_type": "display_data"
    }
   ],
   "source": [
    "table2 %>%\n",
    "spread(key = type, value = count)"
   ]
  },
  {
   "cell_type": "code",
   "execution_count": null,
   "metadata": {},
   "outputs": [],
   "source": []
  }
 ],
 "metadata": {
  "kernelspec": {
   "display_name": "R",
   "language": "R",
   "name": "ir"
  },
  "language_info": {
   "codemirror_mode": "r",
   "file_extension": ".r",
   "mimetype": "text/x-r-source",
   "name": "R",
   "pygments_lexer": "r",
   "version": "3.6.1"
  }
 },
 "nbformat": 4,
 "nbformat_minor": 2
}
